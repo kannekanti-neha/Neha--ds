{
  "nbformat": 4,
  "nbformat_minor": 0,
  "metadata": {
    "colab": {
      "name": " prediction of heart disease occurance.ipynb",
      "provenance": [],
      "collapsed_sections": []
    },
    "kernelspec": {
      "name": "python3",
      "display_name": "Python 3"
    }
  },
  "cells": [
    {
      "cell_type": "markdown",
      "metadata": {
        "id": "-Vfrmf9QYQ2k",
        "colab_type": "text"
      },
      "source": [
        "**CSE-221710313020-K.NEHA**"
      ]
    },
    {
      "cell_type": "markdown",
      "metadata": {
        "id": "gIdksYXzsNKo",
        "colab_type": "text"
      },
      "source": [
        "# **Heart** **Disease** **Prediction**"
      ]
    },
    {
      "cell_type": "markdown",
      "metadata": {
        "id": "nD-c_CCdsRiv",
        "colab_type": "text"
      },
      "source": [
        "# **Aim**"
      ]
    },
    {
      "cell_type": "markdown",
      "metadata": {
        "id": "BOUFS96-sZEY",
        "colab_type": "text"
      },
      "source": [
        "-> In this data science project, I have collected the dataset from Kaggle (https://www.kaggle.com/johnsmith88/heart-disease-dataset) and I will be using Machine Learning to make predictions on whether a person is suffering from Heart Disease or not.\n",
        "\n",
        "dataset: https://github.com/kannekanti-neha/DS/blob/master/heart.csv"
      ]
    },
    {
      "cell_type": "markdown",
      "metadata": {
        "id": "cap5Tsy4sfAT",
        "colab_type": "text"
      },
      "source": [
        "**The** **dataset** **consists** **of** **303** **individuals** **data**. **There** **are** **14** **columns** **in** **the** **dataset**, **which** **are** **described** **below**:"
      ]
    },
    {
      "cell_type": "markdown",
      "metadata": {
        "id": "rV63cfvas_1u",
        "colab_type": "text"
      },
      "source": [
        "1. Age: displays the age of the individual.\n",
        "2. Sex: displays the gender of the individual using the following format :\n",
        "\n",
        "    1 = male\n",
        "\n",
        "    0 = female\n",
        "\n",
        "3. Chest-pain type: displays the type of chest-pain experienced by the individual using the following format :\n",
        "\n",
        "    1 = typical angina\n",
        "\n",
        "    2 = atypical angina\n",
        "\n",
        "    3 = non — anginal pain\n",
        "\n",
        "    4 = asymptotic\n",
        "\n",
        "4. Resting Blood Pressure: displays the resting blood pressure value of an individual in mmHg (unit)\n",
        "\n",
        "5. Serum Cholestrol: displays the serum cholesterol in mg/dl (unit)\n",
        "\n",
        "6. Fasting Blood Sugar: compares the fasting blood sugar value of an individual with 120mg/dl.\n",
        "\n",
        "    If fasting blood sugar > 120mg/dl then : 1 (true)\n",
        "\n",
        "     else : 0 (false)\n",
        "\n",
        "7. Resting ECG : displays resting electrocardiographic results\n",
        "\n",
        "     0 = normal\n",
        "\n",
        "     1 = having ST-T wave abnormality\n",
        "\n",
        "      2 = left ventricular hyperthrophy\n",
        "\n",
        "8. Max heart rate achieved : displays the max heart rate achieved by an individual.\n",
        "\n",
        "9. Exercise induced angina :\n",
        "\n",
        "    1 = yes\n",
        "\n",
        "    0 = no\n",
        "\n",
        "10. ST depression induced by exercise relative to rest: displays the value which is an integer or float.\n",
        "\n",
        "11. Peak exercise ST segment :\n",
        "\n",
        "    1 = upsloping\n",
        "\n",
        "    2 = flat\n",
        "\n",
        "    3 = downsloping\n",
        "\n",
        "12. Number of major vessels (0–3) colored by flourosopy : displays the value as integer or float.\n",
        "\n",
        "13. Thal : displays the thalassemia :\n",
        "\n",
        "    0 = normal\n",
        "\n",
        "    1 = fixed defect\n",
        "\n",
        "    2 = reversible defect\n",
        "\n",
        "14. Diagnosis of heart disease : Displays whether the individual is suffering from heart disease or not :\n",
        "\n",
        "    0 = absence\n",
        "\n",
        "    1, 2, 3, 4 = present."
      ]
    },
    {
      "cell_type": "markdown",
      "metadata": {
        "id": "sJHciU1Kt-pO",
        "colab_type": "text"
      },
      "source": [
        "# **Import** **libraries**"
      ]
    },
    {
      "cell_type": "markdown",
      "metadata": {
        "id": "kywKNMNHuHa5",
        "colab_type": "text"
      },
      "source": [
        "->Let's first import all the necessary libraries. I'll use numpy and pandas to start with. For visualization, I will use pyplot subpackage of matplotlib, use rcParams to add styling to the plots and rainbow for colors. For implementing Machine Learning models and processing of data, I will use the sklearn library."
      ]
    },
    {
      "cell_type": "code",
      "metadata": {
        "id": "aQ7w31MjuKs-",
        "colab_type": "code",
        "colab": {
          "base_uri": "https://localhost:8080/",
          "height": 71
        },
        "outputId": "35270ce4-6e34-4fe1-9231-eea1d5e7e9ec"
      },
      "source": [
        "import numpy as np\n",
        "import pandas as pd\n",
        "import matplotlib.pyplot as plt\n",
        "import seaborn as sns\n",
        "%matplotlib inline"
      ],
      "execution_count": null,
      "outputs": [
        {
          "output_type": "stream",
          "text": [
            "/usr/local/lib/python3.6/dist-packages/statsmodels/tools/_testing.py:19: FutureWarning: pandas.util.testing is deprecated. Use the functions in the public API at pandas.testing instead.\n",
            "  import pandas.util.testing as tm\n"
          ],
          "name": "stderr"
        }
      ]
    },
    {
      "cell_type": "code",
      "metadata": {
        "id": "1HLFcZyBaPSL",
        "colab_type": "code",
        "colab": {
          "base_uri": "https://localhost:8080/",
          "height": 68
        },
        "outputId": "67f03d1e-d0ac-485a-8f93-f307fa9fb3ae"
      },
      "source": [
        "print(pd.__version__)\n",
        "print(np.__version__)\n",
        "print(sns.__version__)"
      ],
      "execution_count": null,
      "outputs": [
        {
          "output_type": "stream",
          "text": [
            "1.0.5\n",
            "1.18.5\n",
            "0.10.1\n"
          ],
          "name": "stdout"
        }
      ]
    },
    {
      "cell_type": "markdown",
      "metadata": {
        "id": "VeCs6NOkudE0",
        "colab_type": "text"
      },
      "source": [
        "# **Import** **dataset**"
      ]
    },
    {
      "cell_type": "code",
      "metadata": {
        "id": "SjYBsLxGujA0",
        "colab_type": "code",
        "colab": {
          "base_uri": "https://localhost:8080/",
          "height": 419
        },
        "outputId": "c17ea89f-7c4d-497f-d1c3-7f1d727d9e31"
      },
      "source": [
        " heart = pd.read_csv(\"/content/drive/My Drive/summer internship 1/heart.csv\",encoding=\"unicode_escape\")\n",
        " heart"
      ],
      "execution_count": null,
      "outputs": [
        {
          "output_type": "execute_result",
          "data": {
            "text/html": [
              "<div>\n",
              "<style scoped>\n",
              "    .dataframe tbody tr th:only-of-type {\n",
              "        vertical-align: middle;\n",
              "    }\n",
              "\n",
              "    .dataframe tbody tr th {\n",
              "        vertical-align: top;\n",
              "    }\n",
              "\n",
              "    .dataframe thead th {\n",
              "        text-align: right;\n",
              "    }\n",
              "</style>\n",
              "<table border=\"1\" class=\"dataframe\">\n",
              "  <thead>\n",
              "    <tr style=\"text-align: right;\">\n",
              "      <th></th>\n",
              "      <th>age</th>\n",
              "      <th>sex</th>\n",
              "      <th>cp</th>\n",
              "      <th>trestbps</th>\n",
              "      <th>chol</th>\n",
              "      <th>fbs</th>\n",
              "      <th>restecg</th>\n",
              "      <th>thalach</th>\n",
              "      <th>exang</th>\n",
              "      <th>oldpeak</th>\n",
              "      <th>slope</th>\n",
              "      <th>ca</th>\n",
              "      <th>thal</th>\n",
              "      <th>target</th>\n",
              "    </tr>\n",
              "  </thead>\n",
              "  <tbody>\n",
              "    <tr>\n",
              "      <th>0</th>\n",
              "      <td>52</td>\n",
              "      <td>1</td>\n",
              "      <td>0</td>\n",
              "      <td>125</td>\n",
              "      <td>212</td>\n",
              "      <td>0</td>\n",
              "      <td>1</td>\n",
              "      <td>168</td>\n",
              "      <td>0</td>\n",
              "      <td>1.0</td>\n",
              "      <td>2</td>\n",
              "      <td>2</td>\n",
              "      <td>3</td>\n",
              "      <td>0</td>\n",
              "    </tr>\n",
              "    <tr>\n",
              "      <th>1</th>\n",
              "      <td>53</td>\n",
              "      <td>1</td>\n",
              "      <td>0</td>\n",
              "      <td>140</td>\n",
              "      <td>203</td>\n",
              "      <td>1</td>\n",
              "      <td>0</td>\n",
              "      <td>155</td>\n",
              "      <td>1</td>\n",
              "      <td>3.1</td>\n",
              "      <td>0</td>\n",
              "      <td>0</td>\n",
              "      <td>3</td>\n",
              "      <td>0</td>\n",
              "    </tr>\n",
              "    <tr>\n",
              "      <th>2</th>\n",
              "      <td>70</td>\n",
              "      <td>1</td>\n",
              "      <td>0</td>\n",
              "      <td>145</td>\n",
              "      <td>174</td>\n",
              "      <td>0</td>\n",
              "      <td>1</td>\n",
              "      <td>125</td>\n",
              "      <td>1</td>\n",
              "      <td>2.6</td>\n",
              "      <td>0</td>\n",
              "      <td>0</td>\n",
              "      <td>3</td>\n",
              "      <td>0</td>\n",
              "    </tr>\n",
              "    <tr>\n",
              "      <th>3</th>\n",
              "      <td>61</td>\n",
              "      <td>1</td>\n",
              "      <td>0</td>\n",
              "      <td>148</td>\n",
              "      <td>203</td>\n",
              "      <td>0</td>\n",
              "      <td>1</td>\n",
              "      <td>161</td>\n",
              "      <td>0</td>\n",
              "      <td>0.0</td>\n",
              "      <td>2</td>\n",
              "      <td>1</td>\n",
              "      <td>3</td>\n",
              "      <td>0</td>\n",
              "    </tr>\n",
              "    <tr>\n",
              "      <th>4</th>\n",
              "      <td>62</td>\n",
              "      <td>0</td>\n",
              "      <td>0</td>\n",
              "      <td>138</td>\n",
              "      <td>294</td>\n",
              "      <td>1</td>\n",
              "      <td>1</td>\n",
              "      <td>106</td>\n",
              "      <td>0</td>\n",
              "      <td>1.9</td>\n",
              "      <td>1</td>\n",
              "      <td>3</td>\n",
              "      <td>2</td>\n",
              "      <td>0</td>\n",
              "    </tr>\n",
              "    <tr>\n",
              "      <th>...</th>\n",
              "      <td>...</td>\n",
              "      <td>...</td>\n",
              "      <td>...</td>\n",
              "      <td>...</td>\n",
              "      <td>...</td>\n",
              "      <td>...</td>\n",
              "      <td>...</td>\n",
              "      <td>...</td>\n",
              "      <td>...</td>\n",
              "      <td>...</td>\n",
              "      <td>...</td>\n",
              "      <td>...</td>\n",
              "      <td>...</td>\n",
              "      <td>...</td>\n",
              "    </tr>\n",
              "    <tr>\n",
              "      <th>1020</th>\n",
              "      <td>59</td>\n",
              "      <td>1</td>\n",
              "      <td>1</td>\n",
              "      <td>140</td>\n",
              "      <td>221</td>\n",
              "      <td>0</td>\n",
              "      <td>1</td>\n",
              "      <td>164</td>\n",
              "      <td>1</td>\n",
              "      <td>0.0</td>\n",
              "      <td>2</td>\n",
              "      <td>0</td>\n",
              "      <td>2</td>\n",
              "      <td>1</td>\n",
              "    </tr>\n",
              "    <tr>\n",
              "      <th>1021</th>\n",
              "      <td>60</td>\n",
              "      <td>1</td>\n",
              "      <td>0</td>\n",
              "      <td>125</td>\n",
              "      <td>258</td>\n",
              "      <td>0</td>\n",
              "      <td>0</td>\n",
              "      <td>141</td>\n",
              "      <td>1</td>\n",
              "      <td>2.8</td>\n",
              "      <td>1</td>\n",
              "      <td>1</td>\n",
              "      <td>3</td>\n",
              "      <td>0</td>\n",
              "    </tr>\n",
              "    <tr>\n",
              "      <th>1022</th>\n",
              "      <td>47</td>\n",
              "      <td>1</td>\n",
              "      <td>0</td>\n",
              "      <td>110</td>\n",
              "      <td>275</td>\n",
              "      <td>0</td>\n",
              "      <td>0</td>\n",
              "      <td>118</td>\n",
              "      <td>1</td>\n",
              "      <td>1.0</td>\n",
              "      <td>1</td>\n",
              "      <td>1</td>\n",
              "      <td>2</td>\n",
              "      <td>0</td>\n",
              "    </tr>\n",
              "    <tr>\n",
              "      <th>1023</th>\n",
              "      <td>50</td>\n",
              "      <td>0</td>\n",
              "      <td>0</td>\n",
              "      <td>110</td>\n",
              "      <td>254</td>\n",
              "      <td>0</td>\n",
              "      <td>0</td>\n",
              "      <td>159</td>\n",
              "      <td>0</td>\n",
              "      <td>0.0</td>\n",
              "      <td>2</td>\n",
              "      <td>0</td>\n",
              "      <td>2</td>\n",
              "      <td>1</td>\n",
              "    </tr>\n",
              "    <tr>\n",
              "      <th>1024</th>\n",
              "      <td>54</td>\n",
              "      <td>1</td>\n",
              "      <td>0</td>\n",
              "      <td>120</td>\n",
              "      <td>188</td>\n",
              "      <td>0</td>\n",
              "      <td>1</td>\n",
              "      <td>113</td>\n",
              "      <td>0</td>\n",
              "      <td>1.4</td>\n",
              "      <td>1</td>\n",
              "      <td>1</td>\n",
              "      <td>3</td>\n",
              "      <td>0</td>\n",
              "    </tr>\n",
              "  </tbody>\n",
              "</table>\n",
              "<p>1025 rows × 14 columns</p>\n",
              "</div>"
            ],
            "text/plain": [
              "      age  sex  cp  trestbps  chol  ...  oldpeak  slope  ca  thal  target\n",
              "0      52    1   0       125   212  ...      1.0      2   2     3       0\n",
              "1      53    1   0       140   203  ...      3.1      0   0     3       0\n",
              "2      70    1   0       145   174  ...      2.6      0   0     3       0\n",
              "3      61    1   0       148   203  ...      0.0      2   1     3       0\n",
              "4      62    0   0       138   294  ...      1.9      1   3     2       0\n",
              "...   ...  ...  ..       ...   ...  ...      ...    ...  ..   ...     ...\n",
              "1020   59    1   1       140   221  ...      0.0      2   0     2       1\n",
              "1021   60    1   0       125   258  ...      2.8      1   1     3       0\n",
              "1022   47    1   0       110   275  ...      1.0      1   1     2       0\n",
              "1023   50    0   0       110   254  ...      0.0      2   0     2       1\n",
              "1024   54    1   0       120   188  ...      1.4      1   1     3       0\n",
              "\n",
              "[1025 rows x 14 columns]"
            ]
          },
          "metadata": {
            "tags": []
          },
          "execution_count": 5
        }
      ]
    },
    {
      "cell_type": "markdown",
      "metadata": {
        "id": "MQfxhFYmunKC",
        "colab_type": "text"
      },
      "source": [
        "-> The dataset is now loaded into the variable dataset. I'll just take a glimpse of the data using the desribe() and info() methods before I actually start processing and visualizing it."
      ]
    },
    {
      "cell_type": "code",
      "metadata": {
        "id": "t9nytSvLuoZG",
        "colab_type": "code",
        "colab": {
          "base_uri": "https://localhost:8080/",
          "height": 374
        },
        "outputId": "d0aafbe9-d63f-44e1-956f-ac8dbd84ba10"
      },
      "source": [
        "heart.info()"
      ],
      "execution_count": null,
      "outputs": [
        {
          "output_type": "stream",
          "text": [
            "<class 'pandas.core.frame.DataFrame'>\n",
            "RangeIndex: 1025 entries, 0 to 1024\n",
            "Data columns (total 14 columns):\n",
            " #   Column    Non-Null Count  Dtype  \n",
            "---  ------    --------------  -----  \n",
            " 0   age       1025 non-null   int64  \n",
            " 1   sex       1025 non-null   int64  \n",
            " 2   cp        1025 non-null   int64  \n",
            " 3   trestbps  1025 non-null   int64  \n",
            " 4   chol      1025 non-null   int64  \n",
            " 5   fbs       1025 non-null   int64  \n",
            " 6   restecg   1025 non-null   int64  \n",
            " 7   thalach   1025 non-null   int64  \n",
            " 8   exang     1025 non-null   int64  \n",
            " 9   oldpeak   1025 non-null   float64\n",
            " 10  slope     1025 non-null   int64  \n",
            " 11  ca        1025 non-null   int64  \n",
            " 12  thal      1025 non-null   int64  \n",
            " 13  target    1025 non-null   int64  \n",
            "dtypes: float64(1), int64(13)\n",
            "memory usage: 112.2 KB\n"
          ],
          "name": "stdout"
        }
      ]
    },
    {
      "cell_type": "markdown",
      "metadata": {
        "id": "6zIwQIRguzGi",
        "colab_type": "text"
      },
      "source": [
        "-> Looks like the dataset has a total of 303 rows and there are no missing values. There are a total of 13 features along with one target value "
      ]
    },
    {
      "cell_type": "code",
      "metadata": {
        "id": "E63fSzkau0Mv",
        "colab_type": "code",
        "colab": {
          "base_uri": "https://localhost:8080/",
          "height": 317
        },
        "outputId": "f150c380-be57-4fc1-80bd-e0e5cb4447f4"
      },
      "source": [
        "heart.describe()"
      ],
      "execution_count": null,
      "outputs": [
        {
          "output_type": "execute_result",
          "data": {
            "text/html": [
              "<div>\n",
              "<style scoped>\n",
              "    .dataframe tbody tr th:only-of-type {\n",
              "        vertical-align: middle;\n",
              "    }\n",
              "\n",
              "    .dataframe tbody tr th {\n",
              "        vertical-align: top;\n",
              "    }\n",
              "\n",
              "    .dataframe thead th {\n",
              "        text-align: right;\n",
              "    }\n",
              "</style>\n",
              "<table border=\"1\" class=\"dataframe\">\n",
              "  <thead>\n",
              "    <tr style=\"text-align: right;\">\n",
              "      <th></th>\n",
              "      <th>age</th>\n",
              "      <th>sex</th>\n",
              "      <th>cp</th>\n",
              "      <th>trestbps</th>\n",
              "      <th>chol</th>\n",
              "      <th>fbs</th>\n",
              "      <th>restecg</th>\n",
              "      <th>thalach</th>\n",
              "      <th>exang</th>\n",
              "      <th>oldpeak</th>\n",
              "      <th>slope</th>\n",
              "      <th>ca</th>\n",
              "      <th>thal</th>\n",
              "      <th>target</th>\n",
              "    </tr>\n",
              "  </thead>\n",
              "  <tbody>\n",
              "    <tr>\n",
              "      <th>count</th>\n",
              "      <td>1025.000000</td>\n",
              "      <td>1025.000000</td>\n",
              "      <td>1025.000000</td>\n",
              "      <td>1025.000000</td>\n",
              "      <td>1025.00000</td>\n",
              "      <td>1025.000000</td>\n",
              "      <td>1025.000000</td>\n",
              "      <td>1025.000000</td>\n",
              "      <td>1025.000000</td>\n",
              "      <td>1025.000000</td>\n",
              "      <td>1025.000000</td>\n",
              "      <td>1025.000000</td>\n",
              "      <td>1025.000000</td>\n",
              "      <td>1025.000000</td>\n",
              "    </tr>\n",
              "    <tr>\n",
              "      <th>mean</th>\n",
              "      <td>54.434146</td>\n",
              "      <td>0.695610</td>\n",
              "      <td>0.942439</td>\n",
              "      <td>131.611707</td>\n",
              "      <td>246.00000</td>\n",
              "      <td>0.149268</td>\n",
              "      <td>0.529756</td>\n",
              "      <td>149.114146</td>\n",
              "      <td>0.336585</td>\n",
              "      <td>1.071512</td>\n",
              "      <td>1.385366</td>\n",
              "      <td>0.754146</td>\n",
              "      <td>2.323902</td>\n",
              "      <td>0.513171</td>\n",
              "    </tr>\n",
              "    <tr>\n",
              "      <th>std</th>\n",
              "      <td>9.072290</td>\n",
              "      <td>0.460373</td>\n",
              "      <td>1.029641</td>\n",
              "      <td>17.516718</td>\n",
              "      <td>51.59251</td>\n",
              "      <td>0.356527</td>\n",
              "      <td>0.527878</td>\n",
              "      <td>23.005724</td>\n",
              "      <td>0.472772</td>\n",
              "      <td>1.175053</td>\n",
              "      <td>0.617755</td>\n",
              "      <td>1.030798</td>\n",
              "      <td>0.620660</td>\n",
              "      <td>0.500070</td>\n",
              "    </tr>\n",
              "    <tr>\n",
              "      <th>min</th>\n",
              "      <td>29.000000</td>\n",
              "      <td>0.000000</td>\n",
              "      <td>0.000000</td>\n",
              "      <td>94.000000</td>\n",
              "      <td>126.00000</td>\n",
              "      <td>0.000000</td>\n",
              "      <td>0.000000</td>\n",
              "      <td>71.000000</td>\n",
              "      <td>0.000000</td>\n",
              "      <td>0.000000</td>\n",
              "      <td>0.000000</td>\n",
              "      <td>0.000000</td>\n",
              "      <td>0.000000</td>\n",
              "      <td>0.000000</td>\n",
              "    </tr>\n",
              "    <tr>\n",
              "      <th>25%</th>\n",
              "      <td>48.000000</td>\n",
              "      <td>0.000000</td>\n",
              "      <td>0.000000</td>\n",
              "      <td>120.000000</td>\n",
              "      <td>211.00000</td>\n",
              "      <td>0.000000</td>\n",
              "      <td>0.000000</td>\n",
              "      <td>132.000000</td>\n",
              "      <td>0.000000</td>\n",
              "      <td>0.000000</td>\n",
              "      <td>1.000000</td>\n",
              "      <td>0.000000</td>\n",
              "      <td>2.000000</td>\n",
              "      <td>0.000000</td>\n",
              "    </tr>\n",
              "    <tr>\n",
              "      <th>50%</th>\n",
              "      <td>56.000000</td>\n",
              "      <td>1.000000</td>\n",
              "      <td>1.000000</td>\n",
              "      <td>130.000000</td>\n",
              "      <td>240.00000</td>\n",
              "      <td>0.000000</td>\n",
              "      <td>1.000000</td>\n",
              "      <td>152.000000</td>\n",
              "      <td>0.000000</td>\n",
              "      <td>0.800000</td>\n",
              "      <td>1.000000</td>\n",
              "      <td>0.000000</td>\n",
              "      <td>2.000000</td>\n",
              "      <td>1.000000</td>\n",
              "    </tr>\n",
              "    <tr>\n",
              "      <th>75%</th>\n",
              "      <td>61.000000</td>\n",
              "      <td>1.000000</td>\n",
              "      <td>2.000000</td>\n",
              "      <td>140.000000</td>\n",
              "      <td>275.00000</td>\n",
              "      <td>0.000000</td>\n",
              "      <td>1.000000</td>\n",
              "      <td>166.000000</td>\n",
              "      <td>1.000000</td>\n",
              "      <td>1.800000</td>\n",
              "      <td>2.000000</td>\n",
              "      <td>1.000000</td>\n",
              "      <td>3.000000</td>\n",
              "      <td>1.000000</td>\n",
              "    </tr>\n",
              "    <tr>\n",
              "      <th>max</th>\n",
              "      <td>77.000000</td>\n",
              "      <td>1.000000</td>\n",
              "      <td>3.000000</td>\n",
              "      <td>200.000000</td>\n",
              "      <td>564.00000</td>\n",
              "      <td>1.000000</td>\n",
              "      <td>2.000000</td>\n",
              "      <td>202.000000</td>\n",
              "      <td>1.000000</td>\n",
              "      <td>6.200000</td>\n",
              "      <td>2.000000</td>\n",
              "      <td>4.000000</td>\n",
              "      <td>3.000000</td>\n",
              "      <td>1.000000</td>\n",
              "    </tr>\n",
              "  </tbody>\n",
              "</table>\n",
              "</div>"
            ],
            "text/plain": [
              "               age          sex  ...         thal       target\n",
              "count  1025.000000  1025.000000  ...  1025.000000  1025.000000\n",
              "mean     54.434146     0.695610  ...     2.323902     0.513171\n",
              "std       9.072290     0.460373  ...     0.620660     0.500070\n",
              "min      29.000000     0.000000  ...     0.000000     0.000000\n",
              "25%      48.000000     0.000000  ...     2.000000     0.000000\n",
              "50%      56.000000     1.000000  ...     2.000000     1.000000\n",
              "75%      61.000000     1.000000  ...     3.000000     1.000000\n",
              "max      77.000000     1.000000  ...     3.000000     1.000000\n",
              "\n",
              "[8 rows x 14 columns]"
            ]
          },
          "metadata": {
            "tags": []
          },
          "execution_count": 7
        }
      ]
    },
    {
      "cell_type": "markdown",
      "metadata": {
        "id": "2D05vhm6u42y",
        "colab_type": "text"
      },
      "source": [
        "-> The scale of each feature column is different and quite varied as well. While the maximum for age reaches 77, the maximum of chol (serum cholestoral) is 564."
      ]
    },
    {
      "cell_type": "code",
      "metadata": {
        "id": "2Ir0pt0Nu7u8",
        "colab_type": "code",
        "colab": {
          "base_uri": "https://localhost:8080/",
          "height": 419
        },
        "outputId": "be1a816a-ea61-4855-be43-f3089643e2be"
      },
      "source": [
        "heart"
      ],
      "execution_count": null,
      "outputs": [
        {
          "output_type": "execute_result",
          "data": {
            "text/html": [
              "<div>\n",
              "<style scoped>\n",
              "    .dataframe tbody tr th:only-of-type {\n",
              "        vertical-align: middle;\n",
              "    }\n",
              "\n",
              "    .dataframe tbody tr th {\n",
              "        vertical-align: top;\n",
              "    }\n",
              "\n",
              "    .dataframe thead th {\n",
              "        text-align: right;\n",
              "    }\n",
              "</style>\n",
              "<table border=\"1\" class=\"dataframe\">\n",
              "  <thead>\n",
              "    <tr style=\"text-align: right;\">\n",
              "      <th></th>\n",
              "      <th>age</th>\n",
              "      <th>sex</th>\n",
              "      <th>cp</th>\n",
              "      <th>trestbps</th>\n",
              "      <th>chol</th>\n",
              "      <th>fbs</th>\n",
              "      <th>restecg</th>\n",
              "      <th>thalach</th>\n",
              "      <th>exang</th>\n",
              "      <th>oldpeak</th>\n",
              "      <th>slope</th>\n",
              "      <th>ca</th>\n",
              "      <th>thal</th>\n",
              "      <th>target</th>\n",
              "    </tr>\n",
              "  </thead>\n",
              "  <tbody>\n",
              "    <tr>\n",
              "      <th>0</th>\n",
              "      <td>52</td>\n",
              "      <td>1</td>\n",
              "      <td>0</td>\n",
              "      <td>125</td>\n",
              "      <td>212</td>\n",
              "      <td>0</td>\n",
              "      <td>1</td>\n",
              "      <td>168</td>\n",
              "      <td>0</td>\n",
              "      <td>1.0</td>\n",
              "      <td>2</td>\n",
              "      <td>2</td>\n",
              "      <td>3</td>\n",
              "      <td>0</td>\n",
              "    </tr>\n",
              "    <tr>\n",
              "      <th>1</th>\n",
              "      <td>53</td>\n",
              "      <td>1</td>\n",
              "      <td>0</td>\n",
              "      <td>140</td>\n",
              "      <td>203</td>\n",
              "      <td>1</td>\n",
              "      <td>0</td>\n",
              "      <td>155</td>\n",
              "      <td>1</td>\n",
              "      <td>3.1</td>\n",
              "      <td>0</td>\n",
              "      <td>0</td>\n",
              "      <td>3</td>\n",
              "      <td>0</td>\n",
              "    </tr>\n",
              "    <tr>\n",
              "      <th>2</th>\n",
              "      <td>70</td>\n",
              "      <td>1</td>\n",
              "      <td>0</td>\n",
              "      <td>145</td>\n",
              "      <td>174</td>\n",
              "      <td>0</td>\n",
              "      <td>1</td>\n",
              "      <td>125</td>\n",
              "      <td>1</td>\n",
              "      <td>2.6</td>\n",
              "      <td>0</td>\n",
              "      <td>0</td>\n",
              "      <td>3</td>\n",
              "      <td>0</td>\n",
              "    </tr>\n",
              "    <tr>\n",
              "      <th>3</th>\n",
              "      <td>61</td>\n",
              "      <td>1</td>\n",
              "      <td>0</td>\n",
              "      <td>148</td>\n",
              "      <td>203</td>\n",
              "      <td>0</td>\n",
              "      <td>1</td>\n",
              "      <td>161</td>\n",
              "      <td>0</td>\n",
              "      <td>0.0</td>\n",
              "      <td>2</td>\n",
              "      <td>1</td>\n",
              "      <td>3</td>\n",
              "      <td>0</td>\n",
              "    </tr>\n",
              "    <tr>\n",
              "      <th>4</th>\n",
              "      <td>62</td>\n",
              "      <td>0</td>\n",
              "      <td>0</td>\n",
              "      <td>138</td>\n",
              "      <td>294</td>\n",
              "      <td>1</td>\n",
              "      <td>1</td>\n",
              "      <td>106</td>\n",
              "      <td>0</td>\n",
              "      <td>1.9</td>\n",
              "      <td>1</td>\n",
              "      <td>3</td>\n",
              "      <td>2</td>\n",
              "      <td>0</td>\n",
              "    </tr>\n",
              "    <tr>\n",
              "      <th>...</th>\n",
              "      <td>...</td>\n",
              "      <td>...</td>\n",
              "      <td>...</td>\n",
              "      <td>...</td>\n",
              "      <td>...</td>\n",
              "      <td>...</td>\n",
              "      <td>...</td>\n",
              "      <td>...</td>\n",
              "      <td>...</td>\n",
              "      <td>...</td>\n",
              "      <td>...</td>\n",
              "      <td>...</td>\n",
              "      <td>...</td>\n",
              "      <td>...</td>\n",
              "    </tr>\n",
              "    <tr>\n",
              "      <th>1020</th>\n",
              "      <td>59</td>\n",
              "      <td>1</td>\n",
              "      <td>1</td>\n",
              "      <td>140</td>\n",
              "      <td>221</td>\n",
              "      <td>0</td>\n",
              "      <td>1</td>\n",
              "      <td>164</td>\n",
              "      <td>1</td>\n",
              "      <td>0.0</td>\n",
              "      <td>2</td>\n",
              "      <td>0</td>\n",
              "      <td>2</td>\n",
              "      <td>1</td>\n",
              "    </tr>\n",
              "    <tr>\n",
              "      <th>1021</th>\n",
              "      <td>60</td>\n",
              "      <td>1</td>\n",
              "      <td>0</td>\n",
              "      <td>125</td>\n",
              "      <td>258</td>\n",
              "      <td>0</td>\n",
              "      <td>0</td>\n",
              "      <td>141</td>\n",
              "      <td>1</td>\n",
              "      <td>2.8</td>\n",
              "      <td>1</td>\n",
              "      <td>1</td>\n",
              "      <td>3</td>\n",
              "      <td>0</td>\n",
              "    </tr>\n",
              "    <tr>\n",
              "      <th>1022</th>\n",
              "      <td>47</td>\n",
              "      <td>1</td>\n",
              "      <td>0</td>\n",
              "      <td>110</td>\n",
              "      <td>275</td>\n",
              "      <td>0</td>\n",
              "      <td>0</td>\n",
              "      <td>118</td>\n",
              "      <td>1</td>\n",
              "      <td>1.0</td>\n",
              "      <td>1</td>\n",
              "      <td>1</td>\n",
              "      <td>2</td>\n",
              "      <td>0</td>\n",
              "    </tr>\n",
              "    <tr>\n",
              "      <th>1023</th>\n",
              "      <td>50</td>\n",
              "      <td>0</td>\n",
              "      <td>0</td>\n",
              "      <td>110</td>\n",
              "      <td>254</td>\n",
              "      <td>0</td>\n",
              "      <td>0</td>\n",
              "      <td>159</td>\n",
              "      <td>0</td>\n",
              "      <td>0.0</td>\n",
              "      <td>2</td>\n",
              "      <td>0</td>\n",
              "      <td>2</td>\n",
              "      <td>1</td>\n",
              "    </tr>\n",
              "    <tr>\n",
              "      <th>1024</th>\n",
              "      <td>54</td>\n",
              "      <td>1</td>\n",
              "      <td>0</td>\n",
              "      <td>120</td>\n",
              "      <td>188</td>\n",
              "      <td>0</td>\n",
              "      <td>1</td>\n",
              "      <td>113</td>\n",
              "      <td>0</td>\n",
              "      <td>1.4</td>\n",
              "      <td>1</td>\n",
              "      <td>1</td>\n",
              "      <td>3</td>\n",
              "      <td>0</td>\n",
              "    </tr>\n",
              "  </tbody>\n",
              "</table>\n",
              "<p>1025 rows × 14 columns</p>\n",
              "</div>"
            ],
            "text/plain": [
              "      age  sex  cp  trestbps  chol  ...  oldpeak  slope  ca  thal  target\n",
              "0      52    1   0       125   212  ...      1.0      2   2     3       0\n",
              "1      53    1   0       140   203  ...      3.1      0   0     3       0\n",
              "2      70    1   0       145   174  ...      2.6      0   0     3       0\n",
              "3      61    1   0       148   203  ...      0.0      2   1     3       0\n",
              "4      62    0   0       138   294  ...      1.9      1   3     2       0\n",
              "...   ...  ...  ..       ...   ...  ...      ...    ...  ..   ...     ...\n",
              "1020   59    1   1       140   221  ...      0.0      2   0     2       1\n",
              "1021   60    1   0       125   258  ...      2.8      1   1     3       0\n",
              "1022   47    1   0       110   275  ...      1.0      1   1     2       0\n",
              "1023   50    0   0       110   254  ...      0.0      2   0     2       1\n",
              "1024   54    1   0       120   188  ...      1.4      1   1     3       0\n",
              "\n",
              "[1025 rows x 14 columns]"
            ]
          },
          "metadata": {
            "tags": []
          },
          "execution_count": 8
        }
      ]
    },
    {
      "cell_type": "code",
      "metadata": {
        "id": "TbX6OHho8ejS",
        "colab_type": "code",
        "colab": {
          "base_uri": "https://localhost:8080/",
          "height": 204
        },
        "outputId": "a2179479-4f40-431a-ab01-061c87902bf4"
      },
      "source": [
        "heart.head()"
      ],
      "execution_count": null,
      "outputs": [
        {
          "output_type": "execute_result",
          "data": {
            "text/html": [
              "<div>\n",
              "<style scoped>\n",
              "    .dataframe tbody tr th:only-of-type {\n",
              "        vertical-align: middle;\n",
              "    }\n",
              "\n",
              "    .dataframe tbody tr th {\n",
              "        vertical-align: top;\n",
              "    }\n",
              "\n",
              "    .dataframe thead th {\n",
              "        text-align: right;\n",
              "    }\n",
              "</style>\n",
              "<table border=\"1\" class=\"dataframe\">\n",
              "  <thead>\n",
              "    <tr style=\"text-align: right;\">\n",
              "      <th></th>\n",
              "      <th>age</th>\n",
              "      <th>sex</th>\n",
              "      <th>cp</th>\n",
              "      <th>trestbps</th>\n",
              "      <th>chol</th>\n",
              "      <th>fbs</th>\n",
              "      <th>restecg</th>\n",
              "      <th>thalach</th>\n",
              "      <th>exang</th>\n",
              "      <th>oldpeak</th>\n",
              "      <th>slope</th>\n",
              "      <th>ca</th>\n",
              "      <th>thal</th>\n",
              "      <th>target</th>\n",
              "    </tr>\n",
              "  </thead>\n",
              "  <tbody>\n",
              "    <tr>\n",
              "      <th>0</th>\n",
              "      <td>52</td>\n",
              "      <td>1</td>\n",
              "      <td>0</td>\n",
              "      <td>125</td>\n",
              "      <td>212</td>\n",
              "      <td>0</td>\n",
              "      <td>1</td>\n",
              "      <td>168</td>\n",
              "      <td>0</td>\n",
              "      <td>1.0</td>\n",
              "      <td>2</td>\n",
              "      <td>2</td>\n",
              "      <td>3</td>\n",
              "      <td>0</td>\n",
              "    </tr>\n",
              "    <tr>\n",
              "      <th>1</th>\n",
              "      <td>53</td>\n",
              "      <td>1</td>\n",
              "      <td>0</td>\n",
              "      <td>140</td>\n",
              "      <td>203</td>\n",
              "      <td>1</td>\n",
              "      <td>0</td>\n",
              "      <td>155</td>\n",
              "      <td>1</td>\n",
              "      <td>3.1</td>\n",
              "      <td>0</td>\n",
              "      <td>0</td>\n",
              "      <td>3</td>\n",
              "      <td>0</td>\n",
              "    </tr>\n",
              "    <tr>\n",
              "      <th>2</th>\n",
              "      <td>70</td>\n",
              "      <td>1</td>\n",
              "      <td>0</td>\n",
              "      <td>145</td>\n",
              "      <td>174</td>\n",
              "      <td>0</td>\n",
              "      <td>1</td>\n",
              "      <td>125</td>\n",
              "      <td>1</td>\n",
              "      <td>2.6</td>\n",
              "      <td>0</td>\n",
              "      <td>0</td>\n",
              "      <td>3</td>\n",
              "      <td>0</td>\n",
              "    </tr>\n",
              "    <tr>\n",
              "      <th>3</th>\n",
              "      <td>61</td>\n",
              "      <td>1</td>\n",
              "      <td>0</td>\n",
              "      <td>148</td>\n",
              "      <td>203</td>\n",
              "      <td>0</td>\n",
              "      <td>1</td>\n",
              "      <td>161</td>\n",
              "      <td>0</td>\n",
              "      <td>0.0</td>\n",
              "      <td>2</td>\n",
              "      <td>1</td>\n",
              "      <td>3</td>\n",
              "      <td>0</td>\n",
              "    </tr>\n",
              "    <tr>\n",
              "      <th>4</th>\n",
              "      <td>62</td>\n",
              "      <td>0</td>\n",
              "      <td>0</td>\n",
              "      <td>138</td>\n",
              "      <td>294</td>\n",
              "      <td>1</td>\n",
              "      <td>1</td>\n",
              "      <td>106</td>\n",
              "      <td>0</td>\n",
              "      <td>1.9</td>\n",
              "      <td>1</td>\n",
              "      <td>3</td>\n",
              "      <td>2</td>\n",
              "      <td>0</td>\n",
              "    </tr>\n",
              "  </tbody>\n",
              "</table>\n",
              "</div>"
            ],
            "text/plain": [
              "   age  sex  cp  trestbps  chol  fbs  ...  exang  oldpeak  slope  ca  thal  target\n",
              "0   52    1   0       125   212    0  ...      0      1.0      2   2     3       0\n",
              "1   53    1   0       140   203    1  ...      1      3.1      0   0     3       0\n",
              "2   70    1   0       145   174    0  ...      1      2.6      0   0     3       0\n",
              "3   61    1   0       148   203    0  ...      0      0.0      2   1     3       0\n",
              "4   62    0   0       138   294    1  ...      0      1.9      1   3     2       0\n",
              "\n",
              "[5 rows x 14 columns]"
            ]
          },
          "metadata": {
            "tags": []
          },
          "execution_count": 9
        }
      ]
    },
    {
      "cell_type": "code",
      "metadata": {
        "id": "g5JRMAQ97BmW",
        "colab_type": "code",
        "colab": {
          "base_uri": "https://localhost:8080/",
          "height": 204
        },
        "outputId": "82b52514-3463-4dbe-8db9-d9d70ef5b02b"
      },
      "source": [
        "heart.tail()"
      ],
      "execution_count": null,
      "outputs": [
        {
          "output_type": "execute_result",
          "data": {
            "text/html": [
              "<div>\n",
              "<style scoped>\n",
              "    .dataframe tbody tr th:only-of-type {\n",
              "        vertical-align: middle;\n",
              "    }\n",
              "\n",
              "    .dataframe tbody tr th {\n",
              "        vertical-align: top;\n",
              "    }\n",
              "\n",
              "    .dataframe thead th {\n",
              "        text-align: right;\n",
              "    }\n",
              "</style>\n",
              "<table border=\"1\" class=\"dataframe\">\n",
              "  <thead>\n",
              "    <tr style=\"text-align: right;\">\n",
              "      <th></th>\n",
              "      <th>age</th>\n",
              "      <th>sex</th>\n",
              "      <th>cp</th>\n",
              "      <th>trestbps</th>\n",
              "      <th>chol</th>\n",
              "      <th>fbs</th>\n",
              "      <th>restecg</th>\n",
              "      <th>thalach</th>\n",
              "      <th>exang</th>\n",
              "      <th>oldpeak</th>\n",
              "      <th>slope</th>\n",
              "      <th>ca</th>\n",
              "      <th>thal</th>\n",
              "      <th>target</th>\n",
              "    </tr>\n",
              "  </thead>\n",
              "  <tbody>\n",
              "    <tr>\n",
              "      <th>1020</th>\n",
              "      <td>59</td>\n",
              "      <td>1</td>\n",
              "      <td>1</td>\n",
              "      <td>140</td>\n",
              "      <td>221</td>\n",
              "      <td>0</td>\n",
              "      <td>1</td>\n",
              "      <td>164</td>\n",
              "      <td>1</td>\n",
              "      <td>0.0</td>\n",
              "      <td>2</td>\n",
              "      <td>0</td>\n",
              "      <td>2</td>\n",
              "      <td>1</td>\n",
              "    </tr>\n",
              "    <tr>\n",
              "      <th>1021</th>\n",
              "      <td>60</td>\n",
              "      <td>1</td>\n",
              "      <td>0</td>\n",
              "      <td>125</td>\n",
              "      <td>258</td>\n",
              "      <td>0</td>\n",
              "      <td>0</td>\n",
              "      <td>141</td>\n",
              "      <td>1</td>\n",
              "      <td>2.8</td>\n",
              "      <td>1</td>\n",
              "      <td>1</td>\n",
              "      <td>3</td>\n",
              "      <td>0</td>\n",
              "    </tr>\n",
              "    <tr>\n",
              "      <th>1022</th>\n",
              "      <td>47</td>\n",
              "      <td>1</td>\n",
              "      <td>0</td>\n",
              "      <td>110</td>\n",
              "      <td>275</td>\n",
              "      <td>0</td>\n",
              "      <td>0</td>\n",
              "      <td>118</td>\n",
              "      <td>1</td>\n",
              "      <td>1.0</td>\n",
              "      <td>1</td>\n",
              "      <td>1</td>\n",
              "      <td>2</td>\n",
              "      <td>0</td>\n",
              "    </tr>\n",
              "    <tr>\n",
              "      <th>1023</th>\n",
              "      <td>50</td>\n",
              "      <td>0</td>\n",
              "      <td>0</td>\n",
              "      <td>110</td>\n",
              "      <td>254</td>\n",
              "      <td>0</td>\n",
              "      <td>0</td>\n",
              "      <td>159</td>\n",
              "      <td>0</td>\n",
              "      <td>0.0</td>\n",
              "      <td>2</td>\n",
              "      <td>0</td>\n",
              "      <td>2</td>\n",
              "      <td>1</td>\n",
              "    </tr>\n",
              "    <tr>\n",
              "      <th>1024</th>\n",
              "      <td>54</td>\n",
              "      <td>1</td>\n",
              "      <td>0</td>\n",
              "      <td>120</td>\n",
              "      <td>188</td>\n",
              "      <td>0</td>\n",
              "      <td>1</td>\n",
              "      <td>113</td>\n",
              "      <td>0</td>\n",
              "      <td>1.4</td>\n",
              "      <td>1</td>\n",
              "      <td>1</td>\n",
              "      <td>3</td>\n",
              "      <td>0</td>\n",
              "    </tr>\n",
              "  </tbody>\n",
              "</table>\n",
              "</div>"
            ],
            "text/plain": [
              "      age  sex  cp  trestbps  chol  ...  oldpeak  slope  ca  thal  target\n",
              "1020   59    1   1       140   221  ...      0.0      2   0     2       1\n",
              "1021   60    1   0       125   258  ...      2.8      1   1     3       0\n",
              "1022   47    1   0       110   275  ...      1.0      1   1     2       0\n",
              "1023   50    0   0       110   254  ...      0.0      2   0     2       1\n",
              "1024   54    1   0       120   188  ...      1.4      1   1     3       0\n",
              "\n",
              "[5 rows x 14 columns]"
            ]
          },
          "metadata": {
            "tags": []
          },
          "execution_count": 10
        }
      ]
    },
    {
      "cell_type": "code",
      "metadata": {
        "id": "ORRGzF4UvAD0",
        "colab_type": "code",
        "colab": {
          "base_uri": "https://localhost:8080/",
          "height": 34
        },
        "outputId": "81118a68-c417-499e-ed6d-1327198c9a1f"
      },
      "source": [
        "heart.shape"
      ],
      "execution_count": null,
      "outputs": [
        {
          "output_type": "execute_result",
          "data": {
            "text/plain": [
              "(1025, 14)"
            ]
          },
          "metadata": {
            "tags": []
          },
          "execution_count": 11
        }
      ]
    },
    {
      "cell_type": "code",
      "metadata": {
        "id": "WrVIkDT5hkH7",
        "colab_type": "code",
        "colab": {
          "base_uri": "https://localhost:8080/",
          "height": 221
        },
        "outputId": "0369e36c-3831-42d9-8fb7-78cbd4007d81"
      },
      "source": [
        "#renamed the columns\n",
        "heart.columns=('age','sex','chestpain','restingbloodpressure','Chlorestrol','Fasting Bloodsugar','Resting ECG','Max Heart Rate Achieved','Exercise induced angina','Old Peak ','Slope','Major vessels','Thalassemia','target')\n",
        "heart.head()"
      ],
      "execution_count": null,
      "outputs": [
        {
          "output_type": "execute_result",
          "data": {
            "text/html": [
              "<div>\n",
              "<style scoped>\n",
              "    .dataframe tbody tr th:only-of-type {\n",
              "        vertical-align: middle;\n",
              "    }\n",
              "\n",
              "    .dataframe tbody tr th {\n",
              "        vertical-align: top;\n",
              "    }\n",
              "\n",
              "    .dataframe thead th {\n",
              "        text-align: right;\n",
              "    }\n",
              "</style>\n",
              "<table border=\"1\" class=\"dataframe\">\n",
              "  <thead>\n",
              "    <tr style=\"text-align: right;\">\n",
              "      <th></th>\n",
              "      <th>age</th>\n",
              "      <th>sex</th>\n",
              "      <th>chestpain</th>\n",
              "      <th>restingbloodpressure</th>\n",
              "      <th>Chlorestrol</th>\n",
              "      <th>Fasting Bloodsugar</th>\n",
              "      <th>Resting ECG</th>\n",
              "      <th>Max Heart Rate Achieved</th>\n",
              "      <th>Exercise induced angina</th>\n",
              "      <th>Old Peak</th>\n",
              "      <th>Slope</th>\n",
              "      <th>Major vessels</th>\n",
              "      <th>Thalassemia</th>\n",
              "      <th>target</th>\n",
              "    </tr>\n",
              "  </thead>\n",
              "  <tbody>\n",
              "    <tr>\n",
              "      <th>0</th>\n",
              "      <td>52</td>\n",
              "      <td>1</td>\n",
              "      <td>0</td>\n",
              "      <td>125</td>\n",
              "      <td>212</td>\n",
              "      <td>0</td>\n",
              "      <td>1</td>\n",
              "      <td>168</td>\n",
              "      <td>0</td>\n",
              "      <td>1.0</td>\n",
              "      <td>2</td>\n",
              "      <td>2</td>\n",
              "      <td>3</td>\n",
              "      <td>0</td>\n",
              "    </tr>\n",
              "    <tr>\n",
              "      <th>1</th>\n",
              "      <td>53</td>\n",
              "      <td>1</td>\n",
              "      <td>0</td>\n",
              "      <td>140</td>\n",
              "      <td>203</td>\n",
              "      <td>1</td>\n",
              "      <td>0</td>\n",
              "      <td>155</td>\n",
              "      <td>1</td>\n",
              "      <td>3.1</td>\n",
              "      <td>0</td>\n",
              "      <td>0</td>\n",
              "      <td>3</td>\n",
              "      <td>0</td>\n",
              "    </tr>\n",
              "    <tr>\n",
              "      <th>2</th>\n",
              "      <td>70</td>\n",
              "      <td>1</td>\n",
              "      <td>0</td>\n",
              "      <td>145</td>\n",
              "      <td>174</td>\n",
              "      <td>0</td>\n",
              "      <td>1</td>\n",
              "      <td>125</td>\n",
              "      <td>1</td>\n",
              "      <td>2.6</td>\n",
              "      <td>0</td>\n",
              "      <td>0</td>\n",
              "      <td>3</td>\n",
              "      <td>0</td>\n",
              "    </tr>\n",
              "    <tr>\n",
              "      <th>3</th>\n",
              "      <td>61</td>\n",
              "      <td>1</td>\n",
              "      <td>0</td>\n",
              "      <td>148</td>\n",
              "      <td>203</td>\n",
              "      <td>0</td>\n",
              "      <td>1</td>\n",
              "      <td>161</td>\n",
              "      <td>0</td>\n",
              "      <td>0.0</td>\n",
              "      <td>2</td>\n",
              "      <td>1</td>\n",
              "      <td>3</td>\n",
              "      <td>0</td>\n",
              "    </tr>\n",
              "    <tr>\n",
              "      <th>4</th>\n",
              "      <td>62</td>\n",
              "      <td>0</td>\n",
              "      <td>0</td>\n",
              "      <td>138</td>\n",
              "      <td>294</td>\n",
              "      <td>1</td>\n",
              "      <td>1</td>\n",
              "      <td>106</td>\n",
              "      <td>0</td>\n",
              "      <td>1.9</td>\n",
              "      <td>1</td>\n",
              "      <td>3</td>\n",
              "      <td>2</td>\n",
              "      <td>0</td>\n",
              "    </tr>\n",
              "  </tbody>\n",
              "</table>\n",
              "</div>"
            ],
            "text/plain": [
              "   age  sex  chestpain  ...  Major vessels  Thalassemia  target\n",
              "0   52    1          0  ...              2            3       0\n",
              "1   53    1          0  ...              0            3       0\n",
              "2   70    1          0  ...              0            3       0\n",
              "3   61    1          0  ...              1            3       0\n",
              "4   62    0          0  ...              3            2       0\n",
              "\n",
              "[5 rows x 14 columns]"
            ]
          },
          "metadata": {
            "tags": []
          },
          "execution_count": 12
        }
      ]
    },
    {
      "cell_type": "code",
      "metadata": {
        "id": "YJJdQQGXvFf_",
        "colab_type": "code",
        "colab": {
          "base_uri": "https://localhost:8080/",
          "height": 34
        },
        "outputId": "c88dffad-df21-4e67-c536-ff0a2aa9a425"
      },
      "source": [
        "heart.size"
      ],
      "execution_count": null,
      "outputs": [
        {
          "output_type": "execute_result",
          "data": {
            "text/plain": [
              "14350"
            ]
          },
          "metadata": {
            "tags": []
          },
          "execution_count": 13
        }
      ]
    },
    {
      "cell_type": "code",
      "metadata": {
        "id": "0mRoZ85kYn9h",
        "colab_type": "code",
        "colab": {
          "base_uri": "https://localhost:8080/",
          "height": 403
        },
        "outputId": "a6b9f9be-4bbd-44fe-f965-a4d4dc1a76f0"
      },
      "source": [
        "#visualizing the heart using heatmap\n",
        "sns.heatmap(heart)"
      ],
      "execution_count": null,
      "outputs": [
        {
          "output_type": "execute_result",
          "data": {
            "text/plain": [
              "<matplotlib.axes._subplots.AxesSubplot at 0x7f2e26ff91d0>"
            ]
          },
          "metadata": {
            "tags": []
          },
          "execution_count": 14
        },
        {
          "output_type": "display_data",
          "data": {
            "image/png": "[encoded data removed]",
            "text/plain": [
              "<Figure size 432x288 with 2 Axes>"
            ]
          },
          "metadata": {
            "tags": [],
            "needs_background": "light"
          }
        }
      ]
    },
    {
      "cell_type": "code",
      "metadata": {
        "id": "EfFL8CMZ7107",
        "colab_type": "code",
        "colab": {
          "base_uri": "https://localhost:8080/",
          "height": 272
        },
        "outputId": "7f700b06-c053-48b3-d2ff-abae2af2c3ed"
      },
      "source": [
        "heart.columns.value_counts()"
      ],
      "execution_count": null,
      "outputs": [
        {
          "output_type": "execute_result",
          "data": {
            "text/plain": [
              "target                     1\n",
              "Fasting Bloodsugar         1\n",
              "Chlorestrol                1\n",
              "Old Peak                   1\n",
              "Major vessels              1\n",
              "Resting ECG                1\n",
              "restingbloodpressure       1\n",
              "age                        1\n",
              "Slope                      1\n",
              "chestpain                  1\n",
              "sex                        1\n",
              "Exercise induced angina    1\n",
              "Thalassemia                1\n",
              "Max Heart Rate Achieved    1\n",
              "dtype: int64"
            ]
          },
          "metadata": {
            "tags": []
          },
          "execution_count": 15
        }
      ]
    },
    {
      "cell_type": "markdown",
      "metadata": {
        "id": "33f36Sec_OpE",
        "colab_type": "text"
      },
      "source": [
        "# **checking for missing values** **and duplicated values**"
      ]
    },
    {
      "cell_type": "code",
      "metadata": {
        "id": "nHuMCL0u_VFZ",
        "colab_type": "code",
        "colab": {
          "base_uri": "https://localhost:8080/",
          "height": 272
        },
        "outputId": "5f2da69e-2b99-4cdc-d5a8-acccf5926f9c"
      },
      "source": [
        "heart.isnull().sum() # no null values in the dataset"
      ],
      "execution_count": null,
      "outputs": [
        {
          "output_type": "execute_result",
          "data": {
            "text/plain": [
              "age                        0\n",
              "sex                        0\n",
              "chestpain                  0\n",
              "restingbloodpressure       0\n",
              "Chlorestrol                0\n",
              "Fasting Bloodsugar         0\n",
              "Resting ECG                0\n",
              "Max Heart Rate Achieved    0\n",
              "Exercise induced angina    0\n",
              "Old Peak                   0\n",
              "Slope                      0\n",
              "Major vessels              0\n",
              "Thalassemia                0\n",
              "target                     0\n",
              "dtype: int64"
            ]
          },
          "metadata": {
            "tags": []
          },
          "execution_count": 16
        }
      ]
    },
    {
      "cell_type": "code",
      "metadata": {
        "id": "oHIfm3IRJbbK",
        "colab_type": "code",
        "colab": {
          "base_uri": "https://localhost:8080/",
          "height": 34
        },
        "outputId": "bc831267-74a5-4e22-d99e-af6f758f44cf"
      },
      "source": [
        "print('duplicated entries: {}'.format(heart.duplicated().sum()))"
      ],
      "execution_count": null,
      "outputs": [
        {
          "output_type": "stream",
          "text": [
            "duplicated entries: 723\n"
          ],
          "name": "stdout"
        }
      ]
    },
    {
      "cell_type": "code",
      "metadata": {
        "id": "z4YPlMSyJxot",
        "colab_type": "code",
        "colab": {
          "base_uri": "https://localhost:8080/",
          "height": 34
        },
        "outputId": "6f5f635a-1b5f-40fc-ae82-7e276ebe0664"
      },
      "source": [
        "heart.drop_duplicates(inplace = True)\n",
        "heart.shape"
      ],
      "execution_count": null,
      "outputs": [
        {
          "output_type": "execute_result",
          "data": {
            "text/plain": [
              "(302, 14)"
            ]
          },
          "metadata": {
            "tags": []
          },
          "execution_count": 18
        }
      ]
    },
    {
      "cell_type": "code",
      "metadata": {
        "id": "BVznwa3TKE8d",
        "colab_type": "code",
        "colab": {
          "base_uri": "https://localhost:8080/",
          "height": 34
        },
        "outputId": "9aa0dc53-36ec-47dc-adbe-58de6824f1cf"
      },
      "source": [
        "print('duplicate entries: {}'.format(heart.duplicated().sum())) #no duplicates values in the dataset"
      ],
      "execution_count": null,
      "outputs": [
        {
          "output_type": "stream",
          "text": [
            "duplicate entries: 0\n"
          ],
          "name": "stdout"
        }
      ]
    },
    {
      "cell_type": "code",
      "metadata": {
        "id": "PIjYVJnL9GT_",
        "colab_type": "code",
        "colab": {
          "base_uri": "https://localhost:8080/",
          "height": 453
        },
        "outputId": "9425fa37-8d5d-4b8b-ea25-2cc977a0b687"
      },
      "source": [
        "heart.isnull()"
      ],
      "execution_count": null,
      "outputs": [
        {
          "output_type": "execute_result",
          "data": {
            "text/html": [
              "<div>\n",
              "<style scoped>\n",
              "    .dataframe tbody tr th:only-of-type {\n",
              "        vertical-align: middle;\n",
              "    }\n",
              "\n",
              "    .dataframe tbody tr th {\n",
              "        vertical-align: top;\n",
              "    }\n",
              "\n",
              "    .dataframe thead th {\n",
              "        text-align: right;\n",
              "    }\n",
              "</style>\n",
              "<table border=\"1\" class=\"dataframe\">\n",
              "  <thead>\n",
              "    <tr style=\"text-align: right;\">\n",
              "      <th></th>\n",
              "      <th>age</th>\n",
              "      <th>sex</th>\n",
              "      <th>chestpain</th>\n",
              "      <th>restingbloodpressure</th>\n",
              "      <th>Chlorestrol</th>\n",
              "      <th>Fasting Bloodsugar</th>\n",
              "      <th>Resting ECG</th>\n",
              "      <th>Max Heart Rate Achieved</th>\n",
              "      <th>Exercise induced angina</th>\n",
              "      <th>Old Peak</th>\n",
              "      <th>Slope</th>\n",
              "      <th>Major vessels</th>\n",
              "      <th>Thalassemia</th>\n",
              "      <th>target</th>\n",
              "    </tr>\n",
              "  </thead>\n",
              "  <tbody>\n",
              "    <tr>\n",
              "      <th>0</th>\n",
              "      <td>False</td>\n",
              "      <td>False</td>\n",
              "      <td>False</td>\n",
              "      <td>False</td>\n",
              "      <td>False</td>\n",
              "      <td>False</td>\n",
              "      <td>False</td>\n",
              "      <td>False</td>\n",
              "      <td>False</td>\n",
              "      <td>False</td>\n",
              "      <td>False</td>\n",
              "      <td>False</td>\n",
              "      <td>False</td>\n",
              "      <td>False</td>\n",
              "    </tr>\n",
              "    <tr>\n",
              "      <th>1</th>\n",
              "      <td>False</td>\n",
              "      <td>False</td>\n",
              "      <td>False</td>\n",
              "      <td>False</td>\n",
              "      <td>False</td>\n",
              "      <td>False</td>\n",
              "      <td>False</td>\n",
              "      <td>False</td>\n",
              "      <td>False</td>\n",
              "      <td>False</td>\n",
              "      <td>False</td>\n",
              "      <td>False</td>\n",
              "      <td>False</td>\n",
              "      <td>False</td>\n",
              "    </tr>\n",
              "    <tr>\n",
              "      <th>2</th>\n",
              "      <td>False</td>\n",
              "      <td>False</td>\n",
              "      <td>False</td>\n",
              "      <td>False</td>\n",
              "      <td>False</td>\n",
              "      <td>False</td>\n",
              "      <td>False</td>\n",
              "      <td>False</td>\n",
              "      <td>False</td>\n",
              "      <td>False</td>\n",
              "      <td>False</td>\n",
              "      <td>False</td>\n",
              "      <td>False</td>\n",
              "      <td>False</td>\n",
              "    </tr>\n",
              "    <tr>\n",
              "      <th>3</th>\n",
              "      <td>False</td>\n",
              "      <td>False</td>\n",
              "      <td>False</td>\n",
              "      <td>False</td>\n",
              "      <td>False</td>\n",
              "      <td>False</td>\n",
              "      <td>False</td>\n",
              "      <td>False</td>\n",
              "      <td>False</td>\n",
              "      <td>False</td>\n",
              "      <td>False</td>\n",
              "      <td>False</td>\n",
              "      <td>False</td>\n",
              "      <td>False</td>\n",
              "    </tr>\n",
              "    <tr>\n",
              "      <th>4</th>\n",
              "      <td>False</td>\n",
              "      <td>False</td>\n",
              "      <td>False</td>\n",
              "      <td>False</td>\n",
              "      <td>False</td>\n",
              "      <td>False</td>\n",
              "      <td>False</td>\n",
              "      <td>False</td>\n",
              "      <td>False</td>\n",
              "      <td>False</td>\n",
              "      <td>False</td>\n",
              "      <td>False</td>\n",
              "      <td>False</td>\n",
              "      <td>False</td>\n",
              "    </tr>\n",
              "    <tr>\n",
              "      <th>...</th>\n",
              "      <td>...</td>\n",
              "      <td>...</td>\n",
              "      <td>...</td>\n",
              "      <td>...</td>\n",
              "      <td>...</td>\n",
              "      <td>...</td>\n",
              "      <td>...</td>\n",
              "      <td>...</td>\n",
              "      <td>...</td>\n",
              "      <td>...</td>\n",
              "      <td>...</td>\n",
              "      <td>...</td>\n",
              "      <td>...</td>\n",
              "      <td>...</td>\n",
              "    </tr>\n",
              "    <tr>\n",
              "      <th>723</th>\n",
              "      <td>False</td>\n",
              "      <td>False</td>\n",
              "      <td>False</td>\n",
              "      <td>False</td>\n",
              "      <td>False</td>\n",
              "      <td>False</td>\n",
              "      <td>False</td>\n",
              "      <td>False</td>\n",
              "      <td>False</td>\n",
              "      <td>False</td>\n",
              "      <td>False</td>\n",
              "      <td>False</td>\n",
              "      <td>False</td>\n",
              "      <td>False</td>\n",
              "    </tr>\n",
              "    <tr>\n",
              "      <th>733</th>\n",
              "      <td>False</td>\n",
              "      <td>False</td>\n",
              "      <td>False</td>\n",
              "      <td>False</td>\n",
              "      <td>False</td>\n",
              "      <td>False</td>\n",
              "      <td>False</td>\n",
              "      <td>False</td>\n",
              "      <td>False</td>\n",
              "      <td>False</td>\n",
              "      <td>False</td>\n",
              "      <td>False</td>\n",
              "      <td>False</td>\n",
              "      <td>False</td>\n",
              "    </tr>\n",
              "    <tr>\n",
              "      <th>739</th>\n",
              "      <td>False</td>\n",
              "      <td>False</td>\n",
              "      <td>False</td>\n",
              "      <td>False</td>\n",
              "      <td>False</td>\n",
              "      <td>False</td>\n",
              "      <td>False</td>\n",
              "      <td>False</td>\n",
              "      <td>False</td>\n",
              "      <td>False</td>\n",
              "      <td>False</td>\n",
              "      <td>False</td>\n",
              "      <td>False</td>\n",
              "      <td>False</td>\n",
              "    </tr>\n",
              "    <tr>\n",
              "      <th>843</th>\n",
              "      <td>False</td>\n",
              "      <td>False</td>\n",
              "      <td>False</td>\n",
              "      <td>False</td>\n",
              "      <td>False</td>\n",
              "      <td>False</td>\n",
              "      <td>False</td>\n",
              "      <td>False</td>\n",
              "      <td>False</td>\n",
              "      <td>False</td>\n",
              "      <td>False</td>\n",
              "      <td>False</td>\n",
              "      <td>False</td>\n",
              "      <td>False</td>\n",
              "    </tr>\n",
              "    <tr>\n",
              "      <th>878</th>\n",
              "      <td>False</td>\n",
              "      <td>False</td>\n",
              "      <td>False</td>\n",
              "      <td>False</td>\n",
              "      <td>False</td>\n",
              "      <td>False</td>\n",
              "      <td>False</td>\n",
              "      <td>False</td>\n",
              "      <td>False</td>\n",
              "      <td>False</td>\n",
              "      <td>False</td>\n",
              "      <td>False</td>\n",
              "      <td>False</td>\n",
              "      <td>False</td>\n",
              "    </tr>\n",
              "  </tbody>\n",
              "</table>\n",
              "<p>302 rows × 14 columns</p>\n",
              "</div>"
            ],
            "text/plain": [
              "       age    sex  chestpain  ...  Major vessels  Thalassemia  target\n",
              "0    False  False      False  ...          False        False   False\n",
              "1    False  False      False  ...          False        False   False\n",
              "2    False  False      False  ...          False        False   False\n",
              "3    False  False      False  ...          False        False   False\n",
              "4    False  False      False  ...          False        False   False\n",
              "..     ...    ...        ...  ...            ...          ...     ...\n",
              "723  False  False      False  ...          False        False   False\n",
              "733  False  False      False  ...          False        False   False\n",
              "739  False  False      False  ...          False        False   False\n",
              "843  False  False      False  ...          False        False   False\n",
              "878  False  False      False  ...          False        False   False\n",
              "\n",
              "[302 rows x 14 columns]"
            ]
          },
          "metadata": {
            "tags": []
          },
          "execution_count": 20
        }
      ]
    },
    {
      "cell_type": "code",
      "metadata": {
        "id": "etqLLG_tju-V",
        "colab_type": "code",
        "colab": {
          "base_uri": "https://localhost:8080/",
          "height": 403
        },
        "outputId": "750294a2-5ed7-477a-f9e5-cfaef2209b5e"
      },
      "source": [
        "sns.heatmap(heart.isnull())"
      ],
      "execution_count": null,
      "outputs": [
        {
          "output_type": "execute_result",
          "data": {
            "text/plain": [
              "<matplotlib.axes._subplots.AxesSubplot at 0x7f2e236d3f98>"
            ]
          },
          "metadata": {
            "tags": []
          },
          "execution_count": 21
        },
        {
          "output_type": "display_data",
          "data": {
            "image/png": "[encoded data removed]",
            "text/plain": [
              "<Figure size 432x288 with 2 Axes>"
            ]
          },
          "metadata": {
            "tags": [],
            "needs_background": "light"
          }
        }
      ]
    },
    {
      "cell_type": "markdown",
      "metadata": {
        "id": "ogLYoviOxl-U",
        "colab_type": "text"
      },
      "source": [
        "Understanding the data:"
      ]
    },
    {
      "cell_type": "code",
      "metadata": {
        "id": "iAQR6YUQ8j_t",
        "colab_type": "code",
        "colab": {
          "base_uri": "https://localhost:8080/",
          "height": 272
        },
        "outputId": "6a5ba8f0-3bf2-46f2-d720-bcd1e940aee3"
      },
      "source": [
        "#calculatng the mean\n",
        "heart.mean()"
      ],
      "execution_count": null,
      "outputs": [
        {
          "output_type": "execute_result",
          "data": {
            "text/plain": [
              "age                         54.420530\n",
              "sex                          0.682119\n",
              "chestpain                    0.963576\n",
              "restingbloodpressure       131.602649\n",
              "Chlorestrol                246.500000\n",
              "Fasting Bloodsugar           0.149007\n",
              "Resting ECG                  0.526490\n",
              "Max Heart Rate Achieved    149.569536\n",
              "Exercise induced angina      0.327815\n",
              "Old Peak                     1.043046\n",
              "Slope                        1.397351\n",
              "Major vessels                0.718543\n",
              "Thalassemia                  2.314570\n",
              "target                       0.543046\n",
              "dtype: float64"
            ]
          },
          "metadata": {
            "tags": []
          },
          "execution_count": 22
        }
      ]
    },
    {
      "cell_type": "code",
      "metadata": {
        "id": "GSw6G1J08vDQ",
        "colab_type": "code",
        "colab": {
          "base_uri": "https://localhost:8080/",
          "height": 272
        },
        "outputId": "1d1f20fa-746d-4959-83bd-e646d10b215a"
      },
      "source": [
        "#calculatng the median\n",
        "heart.median()"
      ],
      "execution_count": null,
      "outputs": [
        {
          "output_type": "execute_result",
          "data": {
            "text/plain": [
              "age                         55.5\n",
              "sex                          1.0\n",
              "chestpain                    1.0\n",
              "restingbloodpressure       130.0\n",
              "Chlorestrol                240.5\n",
              "Fasting Bloodsugar           0.0\n",
              "Resting ECG                  1.0\n",
              "Max Heart Rate Achieved    152.5\n",
              "Exercise induced angina      0.0\n",
              "Old Peak                     0.8\n",
              "Slope                        1.0\n",
              "Major vessels                0.0\n",
              "Thalassemia                  2.0\n",
              "target                       1.0\n",
              "dtype: float64"
            ]
          },
          "metadata": {
            "tags": []
          },
          "execution_count": 23
        }
      ]
    },
    {
      "cell_type": "code",
      "metadata": {
        "id": "xi_1C2gitqbO",
        "colab_type": "code",
        "colab": {
          "base_uri": "https://localhost:8080/",
          "height": 279
        },
        "outputId": "cb2f375f-bef6-4daf-ae69-47cf80b18ca0"
      },
      "source": [
        "sns.countplot(x=\"target\", data=heart, palette=\"bwr\")\n",
        "plt.show()"
      ],
      "execution_count": null,
      "outputs": [
        {
          "output_type": "display_data",
          "data": {
            "image/png": "[encoded data removed]",
            "text/plain": [
              "<Figure size 432x288 with 1 Axes>"
            ]
          },
          "metadata": {
            "tags": [],
            "needs_background": "light"
          }
        }
      ]
    },
    {
      "cell_type": "markdown",
      "metadata": {
        "id": "xYJ31gmcyuyn",
        "colab_type": "text"
      },
      "source": [
        "**From the plot, we can see that the classes are almost balanced and we are good to proceed with data processing.**"
      ]
    },
    {
      "cell_type": "code",
      "metadata": {
        "id": "JwBfWRX5s7Lc",
        "colab_type": "code",
        "colab": {
          "base_uri": "https://localhost:8080/",
          "height": 51
        },
        "outputId": "aaa54053-4515-4a3c-8c95-4ffbc4487c5c"
      },
      "source": [
        "countNoDisease = len(heart[heart.target == 0])\n",
        "countHaveDisease = len(heart[heart.target == 1])\n",
        "print(\"Percentage of Patients Haven't Heart Disease: {:.2f}%\".format((countNoDisease / (len(heart.target))*100)))\n",
        "print(\"Percentage of Patients Have Heart Disease: {:.2f}%\".format((countHaveDisease / (len(heart.target))*100)))"
      ],
      "execution_count": null,
      "outputs": [
        {
          "output_type": "stream",
          "text": [
            "Percentage of Patients Haven't Heart Disease: 45.70%\n",
            "Percentage of Patients Have Heart Disease: 54.30%\n"
          ],
          "name": "stdout"
        }
      ]
    },
    {
      "cell_type": "code",
      "metadata": {
        "id": "D0eL_BZDtI6t",
        "colab_type": "code",
        "colab": {
          "base_uri": "https://localhost:8080/",
          "height": 279
        },
        "outputId": "537a1e10-b869-482e-8f61-c320df70e076"
      },
      "source": [
        "sns.countplot(x ='sex', data=heart, palette=\"mako_r\")\n",
        "plt.xlabel(\"sex (0 = female, 1= male)\")\n",
        "plt.show()"
      ],
      "execution_count": null,
      "outputs": [
        {
          "output_type": "display_data",
          "data": {
            "image/png": "[encoded data removed]",
            "text/plain": [
              "<Figure size 432x288 with 1 Axes>"
            ]
          },
          "metadata": {
            "tags": [],
            "needs_background": "light"
          }
        }
      ]
    },
    {
      "cell_type": "code",
      "metadata": {
        "id": "zoc8JSHdt_GH",
        "colab_type": "code",
        "colab": {
          "base_uri": "https://localhost:8080/",
          "height": 51
        },
        "outputId": "58d2aa80-7d1d-4877-9971-bccf90c29f8e"
      },
      "source": [
        "countFemale = len(heart[heart.sex == 0])\n",
        "countMale = len(heart[heart.sex == 1])\n",
        "print(\"Percentage of Female Patients: {:.2f}%\".format((countFemale / (len(heart.sex))*100)))\n",
        "print(\"Percentage of Male Patients: {:.2f}%\".format((countMale / (len(heart.sex))*100)))"
      ],
      "execution_count": null,
      "outputs": [
        {
          "output_type": "stream",
          "text": [
            "Percentage of Female Patients: 31.79%\n",
            "Percentage of Male Patients: 68.21%\n"
          ],
          "name": "stdout"
        }
      ]
    },
    {
      "cell_type": "code",
      "metadata": {
        "id": "Szy1KgYPuvZc",
        "colab_type": "code",
        "colab": {
          "base_uri": "https://localhost:8080/",
          "height": 407
        },
        "outputId": "60e777aa-0afa-4d4e-9c1c-5e370288699b"
      },
      "source": [
        "pd.crosstab(heart.age,heart.target).plot(kind=\"bar\",figsize=(20,6))\n",
        "plt.title('Heart Disease Frequency for Ages')\n",
        "plt.xlabel('Age')\n",
        "plt.ylabel('Frequency')\n",
        "plt.savefig('heartDiseaseAndAges.png')\n",
        "plt.show()"
      ],
      "execution_count": null,
      "outputs": [
        {
          "output_type": "display_data",
          "data": {
            "image/png": "[encoded data removed]",
            "text/plain": [
              "<Figure size 1440x432 with 1 Axes>"
            ]
          },
          "metadata": {
            "tags": [],
            "needs_background": "light"
          }
        }
      ]
    },
    {
      "cell_type": "markdown",
      "metadata": {
        "id": "euJaWf7Vx7bI",
        "colab_type": "text"
      },
      "source": [
        "**We see that most people who are suffering are of the age of 58, followed by 57**.\n",
        "**Majorly, people belonging to the age group 50+ are suffering from the disease**. "
      ]
    },
    {
      "cell_type": "code",
      "metadata": {
        "id": "cj0fkaSdvD69",
        "colab_type": "code",
        "colab": {
          "base_uri": "https://localhost:8080/",
          "height": 404
        },
        "outputId": "69751c81-57b3-48e7-ae29-b113ddc27bd0"
      },
      "source": [
        "pd.crosstab(heart.sex,heart.target).plot(kind=\"bar\",figsize=(15,6),color=['#1CA53B','#AA1111' ])\n",
        "plt.title('Heart Disease Frequency for Sex')\n",
        "plt.xlabel('Sex (0 = Female, 1 = Male)')\n",
        "plt.xticks(rotation=0)\n",
        "plt.legend([\"Haven't Disease\", \"Have Disease\"])\n",
        "plt.ylabel('Frequency')\n",
        "plt.show()"
      ],
      "execution_count": null,
      "outputs": [
        {
          "output_type": "display_data",
          "data": {
            "image/png": "[encoded data removed]",
            "text/plain": [
              "<Figure size 1080x432 with 1 Axes>"
            ]
          },
          "metadata": {
            "tags": [],
            "needs_background": "light"
          }
        }
      ]
    },
    {
      "cell_type": "markdown",
      "metadata": {
        "id": "3QfTCBt5yX92",
        "colab_type": "text"
      },
      "source": [
        "**Here 1 means male and 0 denotes female. we observe female having heart disease are comparatively less when compared to males Males have low heart diseases as compared to females in the given dataset.**\n"
      ]
    },
    {
      "cell_type": "markdown",
      "metadata": {
        "id": "KY_HY9TzyC0_",
        "colab_type": "text"
      },
      "source": [
        "# **Histogram**"
      ]
    },
    {
      "cell_type": "code",
      "metadata": {
        "id": "4VlmnYhhyMwy",
        "colab_type": "code",
        "colab": {
          "base_uri": "https://localhost:8080/",
          "height": 1000
        },
        "outputId": "b962cd05-bda1-491b-ff1d-5b45ba9a2ec6"
      },
      "source": [
        "heart.hist(figsize=(13,13))"
      ],
      "execution_count": null,
      "outputs": [
        {
          "output_type": "execute_result",
          "data": {
            "text/plain": [
              "array([[<matplotlib.axes._subplots.AxesSubplot object at 0x7f2e22ef2358>,\n",
              "        <matplotlib.axes._subplots.AxesSubplot object at 0x7f2e22e084e0>,\n",
              "        <matplotlib.axes._subplots.AxesSubplot object at 0x7f2e22db8780>,\n",
              "        <matplotlib.axes._subplots.AxesSubplot object at 0x7f2e22d6db00>],\n",
              "       [<matplotlib.axes._subplots.AxesSubplot object at 0x7f2e22d1de80>,\n",
              "        <matplotlib.axes._subplots.AxesSubplot object at 0x7f2e22cdd240>,\n",
              "        <matplotlib.axes._subplots.AxesSubplot object at 0x7f2e23723b38>,\n",
              "        <matplotlib.axes._subplots.AxesSubplot object at 0x7f2e22e3df98>],\n",
              "       [<matplotlib.axes._subplots.AxesSubplot object at 0x7f2e22e3d2b0>,\n",
              "        <matplotlib.axes._subplots.AxesSubplot object at 0x7f2e22fe0f28>,\n",
              "        <matplotlib.axes._subplots.AxesSubplot object at 0x7f2e22f0e048>,\n",
              "        <matplotlib.axes._subplots.AxesSubplot object at 0x7f2e231d5e10>],\n",
              "       [<matplotlib.axes._subplots.AxesSubplot object at 0x7f2e230d72e8>,\n",
              "        <matplotlib.axes._subplots.AxesSubplot object at 0x7f2e23190be0>,\n",
              "        <matplotlib.axes._subplots.AxesSubplot object at 0x7f2e23188940>,\n",
              "        <matplotlib.axes._subplots.AxesSubplot object at 0x7f2e22d02630>]],\n",
              "      dtype=object)"
            ]
          },
          "metadata": {
            "tags": []
          },
          "execution_count": 30
        },
        {
          "output_type": "display_data",
          "data": {
            "image/png": "[encoded data removed]",
            "text/plain": [
              "<Figure size 936x936 with 16 Axes>"
            ]
          },
          "metadata": {
            "tags": [],
            "needs_background": "light"
          }
        }
      ]
    },
    {
      "cell_type": "markdown",
      "metadata": {
        "id": "8HDjIrrjyRIh",
        "colab_type": "text"
      },
      "source": [
        "-> Taking a look at the histograms above, I can see that each feature has a different range of distribution. Thus, using scaling before our predictions should be of great use. Also, the categorical features do stand out."
      ]
    },
    {
      "cell_type": "markdown",
      "metadata": {
        "id": "hfy1rQLKeyPi",
        "colab_type": "text"
      },
      "source": [
        "# **scaling the data**"
      ]
    },
    {
      "cell_type": "code",
      "metadata": {
        "id": "lT6pG-K1fBAP",
        "colab_type": "code",
        "colab": {
          "base_uri": "https://localhost:8080/",
          "height": 238
        },
        "outputId": "7d515d85-37cb-41e2-cc60-82d6ee3e34b4"
      },
      "source": [
        "from sklearn.model_selection import train_test_split\n",
        "from sklearn.preprocessing import StandardScaler\n",
        "StandardScaler = StandardScaler()  \n",
        "columns_to_scale = ['age','restingbloodpressure','Chlorestrol','Max Heart Rate Achieved','Old Peak ']\n",
        "heart[columns_to_scale] = StandardScaler.fit_transform(heart[columns_to_scale])\n",
        "heart.head()"
      ],
      "execution_count": null,
      "outputs": [
        {
          "output_type": "execute_result",
          "data": {
            "text/html": [
              "<div>\n",
              "<style scoped>\n",
              "    .dataframe tbody tr th:only-of-type {\n",
              "        vertical-align: middle;\n",
              "    }\n",
              "\n",
              "    .dataframe tbody tr th {\n",
              "        vertical-align: top;\n",
              "    }\n",
              "\n",
              "    .dataframe thead th {\n",
              "        text-align: right;\n",
              "    }\n",
              "</style>\n",
              "<table border=\"1\" class=\"dataframe\">\n",
              "  <thead>\n",
              "    <tr style=\"text-align: right;\">\n",
              "      <th></th>\n",
              "      <th>age</th>\n",
              "      <th>sex</th>\n",
              "      <th>chestpain</th>\n",
              "      <th>restingbloodpressure</th>\n",
              "      <th>Chlorestrol</th>\n",
              "      <th>Fasting Bloodsugar</th>\n",
              "      <th>Resting ECG</th>\n",
              "      <th>Max Heart Rate Achieved</th>\n",
              "      <th>Exercise induced angina</th>\n",
              "      <th>Old Peak</th>\n",
              "      <th>Slope</th>\n",
              "      <th>Major vessels</th>\n",
              "      <th>Thalassemia</th>\n",
              "      <th>target</th>\n",
              "    </tr>\n",
              "  </thead>\n",
              "  <tbody>\n",
              "    <tr>\n",
              "      <th>0</th>\n",
              "      <td>-0.267966</td>\n",
              "      <td>1</td>\n",
              "      <td>0</td>\n",
              "      <td>-0.376556</td>\n",
              "      <td>-0.667728</td>\n",
              "      <td>0</td>\n",
              "      <td>1</td>\n",
              "      <td>0.806035</td>\n",
              "      <td>0</td>\n",
              "      <td>-0.037124</td>\n",
              "      <td>2</td>\n",
              "      <td>2</td>\n",
              "      <td>3</td>\n",
              "      <td>0</td>\n",
              "    </tr>\n",
              "    <tr>\n",
              "      <th>1</th>\n",
              "      <td>-0.157260</td>\n",
              "      <td>1</td>\n",
              "      <td>0</td>\n",
              "      <td>0.478910</td>\n",
              "      <td>-0.841918</td>\n",
              "      <td>1</td>\n",
              "      <td>0</td>\n",
              "      <td>0.237495</td>\n",
              "      <td>1</td>\n",
              "      <td>1.773958</td>\n",
              "      <td>0</td>\n",
              "      <td>0</td>\n",
              "      <td>3</td>\n",
              "      <td>0</td>\n",
              "    </tr>\n",
              "    <tr>\n",
              "      <th>2</th>\n",
              "      <td>1.724733</td>\n",
              "      <td>1</td>\n",
              "      <td>0</td>\n",
              "      <td>0.764066</td>\n",
              "      <td>-1.403197</td>\n",
              "      <td>0</td>\n",
              "      <td>1</td>\n",
              "      <td>-1.074521</td>\n",
              "      <td>1</td>\n",
              "      <td>1.342748</td>\n",
              "      <td>0</td>\n",
              "      <td>0</td>\n",
              "      <td>3</td>\n",
              "      <td>0</td>\n",
              "    </tr>\n",
              "    <tr>\n",
              "      <th>3</th>\n",
              "      <td>0.728383</td>\n",
              "      <td>1</td>\n",
              "      <td>0</td>\n",
              "      <td>0.935159</td>\n",
              "      <td>-0.841918</td>\n",
              "      <td>0</td>\n",
              "      <td>1</td>\n",
              "      <td>0.499898</td>\n",
              "      <td>0</td>\n",
              "      <td>-0.899544</td>\n",
              "      <td>2</td>\n",
              "      <td>1</td>\n",
              "      <td>3</td>\n",
              "      <td>0</td>\n",
              "    </tr>\n",
              "    <tr>\n",
              "      <th>4</th>\n",
              "      <td>0.839089</td>\n",
              "      <td>0</td>\n",
              "      <td>0</td>\n",
              "      <td>0.364848</td>\n",
              "      <td>0.919336</td>\n",
              "      <td>1</td>\n",
              "      <td>1</td>\n",
              "      <td>-1.905464</td>\n",
              "      <td>0</td>\n",
              "      <td>0.739054</td>\n",
              "      <td>1</td>\n",
              "      <td>3</td>\n",
              "      <td>2</td>\n",
              "      <td>0</td>\n",
              "    </tr>\n",
              "  </tbody>\n",
              "</table>\n",
              "</div>"
            ],
            "text/plain": [
              "        age  sex  chestpain  ...  Major vessels  Thalassemia  target\n",
              "0 -0.267966    1          0  ...              2            3       0\n",
              "1 -0.157260    1          0  ...              0            3       0\n",
              "2  1.724733    1          0  ...              0            3       0\n",
              "3  0.728383    1          0  ...              1            3       0\n",
              "4  0.839089    0          0  ...              3            2       0\n",
              "\n",
              "[5 rows x 14 columns]"
            ]
          },
          "metadata": {
            "tags": []
          },
          "execution_count": 31
        }
      ]
    },
    {
      "cell_type": "code",
      "metadata": {
        "id": "BET5ZSieiYF2",
        "colab_type": "code",
        "colab": {}
      },
      "source": [
        "#Splitting the dataset into training and test data.\n",
        "# 80% of the data will be in training data and 20% of the data will be in testing\n",
        "X = heart.drop(['target'],axis=1)\n",
        "y = heart.target\n",
        "from sklearn.model_selection import train_test_split\n",
        "X_train,X_test,y_train,y_test = train_test_split(X,y, test_size=0.2,random_state=0)"
      ],
      "execution_count": null,
      "outputs": []
    },
    {
      "cell_type": "markdown",
      "metadata": {
        "id": "DZsJDJ32zZim",
        "colab_type": "text"
      },
      "source": [
        "# **Machine Learning**"
      ]
    },
    {
      "cell_type": "markdown",
      "metadata": {
        "id": "Zt5dNx5fmjkU",
        "colab_type": "text"
      },
      "source": [
        "-> I'll now import train_test_split to split our dataset into training and testing datasets. Then, I'll import all Machine Learning models I'll be using to train and test the data."
      ]
    },
    {
      "cell_type": "markdown",
      "metadata": {
        "id": "TRdej6f9nIM3",
        "colab_type": "text"
      },
      "source": [
        "Next, I'll import all the Machine Learning algorithms I will be using."
      ]
    },
    {
      "cell_type": "markdown",
      "metadata": {
        "id": "aTlmUEEygswl",
        "colab_type": "text"
      },
      "source": [
        "1.logistic regression\n",
        "\n",
        "2.naive bayes classifier\n",
        "\n",
        "3.K Neighbors Classifier\n",
        "\n",
        "4.svm\n"
      ]
    },
    {
      "cell_type": "markdown",
      "metadata": {
        "id": "l7JRwrHKoPc0",
        "colab_type": "text"
      },
      "source": [
        "# **Logistic Regression**\n"
      ]
    },
    {
      "cell_type": "markdown",
      "metadata": {
        "id": "7JXflMtiShwt",
        "colab_type": "text"
      },
      "source": [
        "->**Import LogisticRegression from sklearn.linear_model and create an object. Fit the model on training data**\n"
      ]
    },
    {
      "cell_type": "code",
      "metadata": {
        "id": "NnetYOKroyJv",
        "colab_type": "code",
        "colab": {
          "base_uri": "https://localhost:8080/",
          "height": 102
        },
        "outputId": "8d971c6b-6def-4b0b-aab5-52c2398dc8ca"
      },
      "source": [
        "from sklearn.linear_model import LogisticRegression\n",
        "log_reg = LogisticRegression() # creating an object for Logistic Regression\n",
        "## We have to apply this object(log_reg) to the training data\n",
        "log_reg.fit(X_train, y_train) # with help of fit method we are fitting the \n",
        "                            ##Logistic Regression on training data\n",
        "## objectName.fit(InputData, OutputData)"
      ],
      "execution_count": null,
      "outputs": [
        {
          "output_type": "execute_result",
          "data": {
            "text/plain": [
              "LogisticRegression(C=1.0, class_weight=None, dual=False, fit_intercept=True,\n",
              "                   intercept_scaling=1, l1_ratio=None, max_iter=100,\n",
              "                   multi_class='auto', n_jobs=None, penalty='l2',\n",
              "                   random_state=None, solver='lbfgs', tol=0.0001, verbose=0,\n",
              "                   warm_start=False)"
            ]
          },
          "metadata": {
            "tags": []
          },
          "execution_count": 33
        }
      ]
    },
    {
      "cell_type": "markdown",
      "metadata": {
        "id": "dCPDXENNTAJX",
        "colab_type": "text"
      },
      "source": [
        "# **Predicting on Train data**\n"
      ]
    },
    {
      "cell_type": "code",
      "metadata": {
        "id": "s4zzCjO8o9a5",
        "colab_type": "code",
        "colab": {}
      },
      "source": [
        "y_train_pred = log_reg.predict(X_train)"
      ],
      "execution_count": null,
      "outputs": []
    },
    {
      "cell_type": "code",
      "metadata": {
        "id": "XEIyX7vZpBW7",
        "colab_type": "code",
        "colab": {
          "base_uri": "https://localhost:8080/",
          "height": 221
        },
        "outputId": "4eb2dcdf-28f0-4623-d824-544813d67716"
      },
      "source": [
        "y_train ==y_train_pred"
      ],
      "execution_count": null,
      "outputs": [
        {
          "output_type": "execute_result",
          "data": {
            "text/plain": [
              "81      True\n",
              "193     True\n",
              "70      True\n",
              "719    False\n",
              "628     True\n",
              "       ...  \n",
              "425     True\n",
              "271     True\n",
              "143     True\n",
              "50      True\n",
              "232     True\n",
              "Name: target, Length: 241, dtype: bool"
            ]
          },
          "metadata": {
            "tags": []
          },
          "execution_count": 35
        }
      ]
    },
    {
      "cell_type": "markdown",
      "metadata": {
        "id": "N1c39sRxUPUY",
        "colab_type": "text"
      },
      "source": [
        "-> Visualizing the confusion matrix using heat map\n"
      ]
    },
    {
      "cell_type": "code",
      "metadata": {
        "id": "2CT0cqUcUBEL",
        "colab_type": "code",
        "colab": {
          "base_uri": "https://localhost:8080/",
          "height": 282
        },
        "outputId": "112c2ae8-ae03-4afb-9be0-f900d6a23975"
      },
      "source": [
        "from sklearn.metrics import confusion_matrix, accuracy_score\n",
        "conf = confusion_matrix(y_train, y_train_pred)\n",
        "conf\n",
        "sns.heatmap(confusion_matrix(y_train, y_train_pred), annot=True, fmt='3.0f', annot_kws={'size':'10', \"ha\": 'right',\"va\": 'baseline'})"
      ],
      "execution_count": null,
      "outputs": [
        {
          "output_type": "execute_result",
          "data": {
            "text/plain": [
              "<matplotlib.axes._subplots.AxesSubplot at 0x7f2e210b6f28>"
            ]
          },
          "metadata": {
            "tags": []
          },
          "execution_count": 36
        },
        {
          "output_type": "display_data",
          "data": {
            "image/png": "[encoded data removed]",
            "text/plain": [
              "<Figure size 432x288 with 2 Axes>"
            ]
          },
          "metadata": {
            "tags": [],
            "needs_background": "light"
          }
        }
      ]
    },
    {
      "cell_type": "markdown",
      "metadata": {
        "id": "zfbTGfAIUYv2",
        "colab_type": "text"
      },
      "source": [
        "-> Finding the accuracy score:\n"
      ]
    },
    {
      "cell_type": "code",
      "metadata": {
        "id": "CLS08KO3pGJw",
        "colab_type": "code",
        "colab": {
          "base_uri": "https://localhost:8080/",
          "height": 34
        },
        "outputId": "b5e76802-d42a-477e-c6df-8793a101cd67"
      },
      "source": [
        "from sklearn.metrics import accuracy_score\n",
        "accuracy_score(y_train, y_train_pred)"
      ],
      "execution_count": null,
      "outputs": [
        {
          "output_type": "execute_result",
          "data": {
            "text/plain": [
              "0.8547717842323651"
            ]
          },
          "metadata": {
            "tags": []
          },
          "execution_count": 37
        }
      ]
    },
    {
      "cell_type": "markdown",
      "metadata": {
        "id": "hxEySbR5UhFB",
        "colab_type": "text"
      },
      "source": [
        "-> Print the classification report and check the accuracy of the training data"
      ]
    },
    {
      "cell_type": "code",
      "metadata": {
        "id": "ROMT84WAtzGy",
        "colab_type": "code",
        "colab": {
          "base_uri": "https://localhost:8080/",
          "height": 170
        },
        "outputId": "4c8bb70a-b128-44fa-9631-a4ea0d3068a6"
      },
      "source": [
        "from sklearn.metrics import classification_report,confusion_matrix\n",
        "print(classification_report(y_train, y_train_pred))\n"
      ],
      "execution_count": null,
      "outputs": [
        {
          "output_type": "stream",
          "text": [
            "              precision    recall  f1-score   support\n",
            "\n",
            "           0       0.88      0.80      0.84       113\n",
            "           1       0.83      0.91      0.87       128\n",
            "\n",
            "    accuracy                           0.85       241\n",
            "   macro avg       0.86      0.85      0.85       241\n",
            "weighted avg       0.86      0.85      0.85       241\n",
            "\n"
          ],
          "name": "stdout"
        }
      ]
    },
    {
      "cell_type": "markdown",
      "metadata": {
        "id": "W0ctArTzUofo",
        "colab_type": "text"
      },
      "source": [
        "-> **We got an accuracy score of around 86% for the training** **Now let’s check the same for test data. **"
      ]
    },
    {
      "cell_type": "markdown",
      "metadata": {
        "id": "ElhhqarHg6S6",
        "colab_type": "text"
      },
      "source": [
        "# **Predicting on Test data**"
      ]
    },
    {
      "cell_type": "code",
      "metadata": {
        "id": "DoBcYwaPpHx4",
        "colab_type": "code",
        "colab": {}
      },
      "source": [
        "y_test_pred = log_reg.predict(X_test)"
      ],
      "execution_count": null,
      "outputs": []
    },
    {
      "cell_type": "code",
      "metadata": {
        "id": "zPVUHi-EpUt5",
        "colab_type": "code",
        "colab": {
          "base_uri": "https://localhost:8080/",
          "height": 221
        },
        "outputId": "676e2e36-5415-4ccc-e4a1-f700b7e98ea3"
      },
      "source": [
        "y_test==y_test_pred"
      ],
      "execution_count": null,
      "outputs": [
        {
          "output_type": "execute_result",
          "data": {
            "text/plain": [
              "342     True\n",
              "191     True\n",
              "349    False\n",
              "288     True\n",
              "56      True\n",
              "       ...  \n",
              "182     True\n",
              "878     True\n",
              "27     False\n",
              "128     True\n",
              "102     True\n",
              "Name: target, Length: 61, dtype: bool"
            ]
          },
          "metadata": {
            "tags": []
          },
          "execution_count": 40
        }
      ]
    },
    {
      "cell_type": "markdown",
      "metadata": {
        "id": "jVT-_uHiVKNx",
        "colab_type": "text"
      },
      "source": [
        "-> **Visualizing the confusion matrix using heat map**"
      ]
    },
    {
      "cell_type": "code",
      "metadata": {
        "id": "IsXzNrGCVzCC",
        "colab_type": "code",
        "colab": {
          "base_uri": "https://localhost:8080/",
          "height": 282
        },
        "outputId": "014e96c2-0f6d-4005-d4ad-830dc1aa4c70"
      },
      "source": [
        "from sklearn.metrics import confusion_matrix, accuracy_score\n",
        "conf = confusion_matrix(y_test, y_test_pred)\n",
        "conf\n",
        "sns.heatmap(confusion_matrix(y_test, y_test_pred), annot=True, fmt='3.0f', annot_kws={'size':'10', \"ha\": 'right',\"va\": 'baseline'})"
      ],
      "execution_count": null,
      "outputs": [
        {
          "output_type": "execute_result",
          "data": {
            "text/plain": [
              "<matplotlib.axes._subplots.AxesSubplot at 0x7f2e210b6748>"
            ]
          },
          "metadata": {
            "tags": []
          },
          "execution_count": 41
        },
        {
          "output_type": "display_data",
          "data": {
            "image/png": "[encoded data removed]",
            "text/plain": [
              "<Figure size 432x288 with 2 Axes>"
            ]
          },
          "metadata": {
            "tags": [],
            "needs_background": "light"
          }
        }
      ]
    },
    {
      "cell_type": "markdown",
      "metadata": {
        "id": "aLPvUG3RV6YX",
        "colab_type": "text"
      },
      "source": [
        "-> Finding the accuracy score:"
      ]
    },
    {
      "cell_type": "code",
      "metadata": {
        "id": "Nm9t-eaKpV2S",
        "colab_type": "code",
        "colab": {
          "base_uri": "https://localhost:8080/",
          "height": 34
        },
        "outputId": "b3bb7a77-f927-47d3-ff0c-9f975904fd6a"
      },
      "source": [
        "accuracy_score(y_test, y_test_pred)"
      ],
      "execution_count": null,
      "outputs": [
        {
          "output_type": "execute_result",
          "data": {
            "text/plain": [
              "0.8524590163934426"
            ]
          },
          "metadata": {
            "tags": []
          },
          "execution_count": 42
        }
      ]
    },
    {
      "cell_type": "markdown",
      "metadata": {
        "id": "4enT7i9UWPpg",
        "colab_type": "text"
      },
      "source": [
        "-> Print the classification report and check the accuracy of the testing data\n",
        "\n"
      ]
    },
    {
      "cell_type": "code",
      "metadata": {
        "id": "yI0IdEoJwoW5",
        "colab_type": "code",
        "colab": {
          "base_uri": "https://localhost:8080/",
          "height": 170
        },
        "outputId": "b22a0119-7138-4f56-b54a-179ce318600d"
      },
      "source": [
        "from sklearn.metrics import classification_report,confusion_matrix\n",
        "print(classification_report(y_test, y_test_pred))"
      ],
      "execution_count": null,
      "outputs": [
        {
          "output_type": "stream",
          "text": [
            "              precision    recall  f1-score   support\n",
            "\n",
            "           0       0.83      0.80      0.82        25\n",
            "           1       0.86      0.89      0.88        36\n",
            "\n",
            "    accuracy                           0.85        61\n",
            "   macro avg       0.85      0.84      0.85        61\n",
            "weighted avg       0.85      0.85      0.85        61\n",
            "\n"
          ],
          "name": "stdout"
        }
      ]
    },
    {
      "cell_type": "markdown",
      "metadata": {
        "id": "x0QyvPgUWSma",
        "colab_type": "text"
      },
      "source": [
        "**We got an accuracy score of around 84% for the testing**"
      ]
    },
    {
      "cell_type": "markdown",
      "metadata": {
        "id": "er6GyV8rhCiK",
        "colab_type": "text"
      },
      "source": [
        "# **Naive Bayes Classifier**\n"
      ]
    },
    {
      "cell_type": "code",
      "metadata": {
        "id": "HOeARNMJW1YM",
        "colab_type": "code",
        "colab": {
          "base_uri": "https://localhost:8080/",
          "height": 34
        },
        "outputId": "0a89181f-c470-4e09-c645-10b2b0e6d6f7"
      },
      "source": [
        "from sklearn.model_selection import train_test_split\n",
        "X_train, X_test, y_train, y_test = train_test_split(X, y, test_size = 0.2, random_state = 1)\n",
        "\n",
        "from sklearn.naive_bayes import GaussianNB\n",
        "classifier = GaussianNB()\n",
        "classifier.fit(X_train,y_train)"
      ],
      "execution_count": null,
      "outputs": [
        {
          "output_type": "execute_result",
          "data": {
            "text/plain": [
              "GaussianNB(priors=None, var_smoothing=1e-09)"
            ]
          },
          "metadata": {
            "tags": []
          },
          "execution_count": 44
        }
      ]
    },
    {
      "cell_type": "markdown",
      "metadata": {
        "id": "yeGfaWp5dZdp",
        "colab_type": "text"
      },
      "source": [
        "# **Predicting on Train data**"
      ]
    },
    {
      "cell_type": "code",
      "metadata": {
        "id": "jNmw0PmyW7Ak",
        "colab_type": "code",
        "colab": {
          "base_uri": "https://localhost:8080/",
          "height": 221
        },
        "outputId": "01d19ee0-8c52-4bad-a99d-776935115b9d"
      },
      "source": [
        "y_train_pred = classifier.predict(X_train)\n",
        "y_train==y_train_pred"
      ],
      "execution_count": null,
      "outputs": [
        {
          "output_type": "execute_result",
          "data": {
            "text/plain": [
              "210     True\n",
              "124     True\n",
              "145     True\n",
              "380     True\n",
              "143     True\n",
              "       ...  \n",
              "292    False\n",
              "431     True\n",
              "78      True\n",
              "366     True\n",
              "39     False\n",
              "Name: target, Length: 241, dtype: bool"
            ]
          },
          "metadata": {
            "tags": []
          },
          "execution_count": 45
        }
      ]
    },
    {
      "cell_type": "code",
      "metadata": {
        "id": "7fLc4oL-CZZt",
        "colab_type": "code",
        "colab": {
          "base_uri": "https://localhost:8080/",
          "height": 282
        },
        "outputId": "d3fc48bf-0382-4cae-e186-cb829b3f5f6a"
      },
      "source": [
        "from sklearn.metrics import confusion_matrix, accuracy_score\n",
        "conf = confusion_matrix(y_train, y_train_pred)\n",
        "conf\n",
        "sns.heatmap(confusion_matrix(y_train, y_train_pred), annot=True, fmt='3.0f', annot_kws={'size':'10', \"ha\": 'right',\"va\": 'baseline'})"
      ],
      "execution_count": null,
      "outputs": [
        {
          "output_type": "execute_result",
          "data": {
            "text/plain": [
              "<matplotlib.axes._subplots.AxesSubplot at 0x7f2e20f74470>"
            ]
          },
          "metadata": {
            "tags": []
          },
          "execution_count": 46
        },
        {
          "output_type": "display_data",
          "data": {
            "image/png": "[encoded data removed]",
            "text/plain": [
              "<Figure size 432x288 with 2 Axes>"
            ]
          },
          "metadata": {
            "tags": [],
            "needs_background": "light"
          }
        }
      ]
    },
    {
      "cell_type": "markdown",
      "metadata": {
        "id": "_yMRPRjpdQMU",
        "colab_type": "text"
      },
      "source": [
        "-> **Print the classification report and check the accuracy of the testing data**"
      ]
    },
    {
      "cell_type": "code",
      "metadata": {
        "id": "M5A7Xaq3XFdI",
        "colab_type": "code",
        "colab": {
          "base_uri": "https://localhost:8080/",
          "height": 170
        },
        "outputId": "b0e427c9-e621-4952-8219-bc3b521101fd"
      },
      "source": [
        "print(classification_report(y_train,y_train_pred))"
      ],
      "execution_count": null,
      "outputs": [
        {
          "output_type": "stream",
          "text": [
            "              precision    recall  f1-score   support\n",
            "\n",
            "           0       0.90      0.82      0.86       112\n",
            "           1       0.86      0.92      0.89       129\n",
            "\n",
            "    accuracy                           0.88       241\n",
            "   macro avg       0.88      0.87      0.87       241\n",
            "weighted avg       0.88      0.88      0.87       241\n",
            "\n"
          ],
          "name": "stdout"
        }
      ]
    },
    {
      "cell_type": "markdown",
      "metadata": {
        "id": "5PP_9D5oc0Lh",
        "colab_type": "text"
      },
      "source": [
        "-> **Finding the accuracy score:**"
      ]
    },
    {
      "cell_type": "code",
      "metadata": {
        "id": "4Tv5STZBXJn9",
        "colab_type": "code",
        "colab": {
          "base_uri": "https://localhost:8080/",
          "height": 34
        },
        "outputId": "7e7623c6-0f5f-4786-d49b-c247dc781dba"
      },
      "source": [
        "from sklearn.metrics import accuracy_score\n",
        "accuracy_score(y_train,y_train_pred)"
      ],
      "execution_count": null,
      "outputs": [
        {
          "output_type": "execute_result",
          "data": {
            "text/plain": [
              "0.8755186721991701"
            ]
          },
          "metadata": {
            "tags": []
          },
          "execution_count": 48
        }
      ]
    },
    {
      "cell_type": "markdown",
      "metadata": {
        "id": "ADDD8QsTdBfL",
        "colab_type": "text"
      },
      "source": [
        "# **Predicting on Test data**"
      ]
    },
    {
      "cell_type": "code",
      "metadata": {
        "id": "waRdcm-5XQXz",
        "colab_type": "code",
        "colab": {
          "base_uri": "https://localhost:8080/",
          "height": 221
        },
        "outputId": "c010edff-71ac-4e64-aecf-43eca31918fc"
      },
      "source": [
        "y_test_pred = classifier.predict(X_test)\n",
        "y_test==y_test_pred"
      ],
      "execution_count": null,
      "outputs": [
        {
          "output_type": "execute_result",
          "data": {
            "text/plain": [
              "233     True\n",
              "101     True\n",
              "215     True\n",
              "377    False\n",
              "131     True\n",
              "       ...  \n",
              "274    False\n",
              "89      True\n",
              "391    False\n",
              "331     True\n",
              "363    False\n",
              "Name: target, Length: 61, dtype: bool"
            ]
          },
          "metadata": {
            "tags": []
          },
          "execution_count": 49
        }
      ]
    },
    {
      "cell_type": "code",
      "metadata": {
        "id": "xaykE9x8C-dI",
        "colab_type": "code",
        "colab": {
          "base_uri": "https://localhost:8080/",
          "height": 286
        },
        "outputId": "1034a6b0-d18e-4ccb-e605-7d661d8ce7ab"
      },
      "source": [
        "from sklearn.metrics import confusion_matrix, accuracy_score\n",
        "conf = confusion_matrix(y_test, y_test_pred)\n",
        "conf\n",
        "sns.heatmap(confusion_matrix(y_test, y_test_pred), annot=True, fmt='3.0f', annot_kws={'size':'10', \"ha\": 'right',\"va\": 'baseline'})"
      ],
      "execution_count": null,
      "outputs": [
        {
          "output_type": "execute_result",
          "data": {
            "text/plain": [
              "<matplotlib.axes._subplots.AxesSubplot at 0x7f2e20f09e80>"
            ]
          },
          "metadata": {
            "tags": []
          },
          "execution_count": 50
        },
        {
          "output_type": "display_data",
          "data": {
            "image/png": "[encoded data removed]",
            "text/plain": [
              "<Figure size 432x288 with 2 Axes>"
            ]
          },
          "metadata": {
            "tags": [],
            "needs_background": "light"
          }
        }
      ]
    },
    {
      "cell_type": "markdown",
      "metadata": {
        "id": "Uhd2Vp7BdLxO",
        "colab_type": "text"
      },
      "source": [
        "-> **Print the classification report and check the accuracy of the testing data**"
      ]
    },
    {
      "cell_type": "code",
      "metadata": {
        "id": "l0k9lw9LXWMn",
        "colab_type": "code",
        "colab": {
          "base_uri": "https://localhost:8080/",
          "height": 170
        },
        "outputId": "687619a5-2012-4a18-9e7e-6f676931b946"
      },
      "source": [
        "print(classification_report(y_test,y_test_pred))"
      ],
      "execution_count": null,
      "outputs": [
        {
          "output_type": "stream",
          "text": [
            "              precision    recall  f1-score   support\n",
            "\n",
            "           0       0.67      0.77      0.71        26\n",
            "           1       0.81      0.71      0.76        35\n",
            "\n",
            "    accuracy                           0.74        61\n",
            "   macro avg       0.74      0.74      0.74        61\n",
            "weighted avg       0.75      0.74      0.74        61\n",
            "\n"
          ],
          "name": "stdout"
        }
      ]
    },
    {
      "cell_type": "markdown",
      "metadata": {
        "id": "otOdz2j4c4pA",
        "colab_type": "text"
      },
      "source": [
        "-> **Finding the accuracy score:**"
      ]
    },
    {
      "cell_type": "code",
      "metadata": {
        "id": "Tfab6kYfXZyr",
        "colab_type": "code",
        "colab": {
          "base_uri": "https://localhost:8080/",
          "height": 34
        },
        "outputId": "7bc8be59-6dd7-49a0-9959-3b90b87d6f4e"
      },
      "source": [
        "from sklearn.metrics import accuracy_score\n",
        "accuracy_score(y_test,y_test_pred)"
      ],
      "execution_count": null,
      "outputs": [
        {
          "output_type": "execute_result",
          "data": {
            "text/plain": [
              "0.7377049180327869"
            ]
          },
          "metadata": {
            "tags": []
          },
          "execution_count": 52
        }
      ]
    },
    {
      "cell_type": "markdown",
      "metadata": {
        "id": "3p98eJmaCZgN",
        "colab_type": "text"
      },
      "source": [
        "# **K Neighbors Classifier**"
      ]
    },
    {
      "cell_type": "code",
      "metadata": {
        "id": "n2uqzaz7VxFn",
        "colab_type": "code",
        "colab": {
          "base_uri": "https://localhost:8080/",
          "height": 68
        },
        "outputId": "455fb89c-9019-4e4b-ce4b-2ebd08f31135"
      },
      "source": [
        "from sklearn.model_selection import train_test_split\n",
        "X_train,X_test,y_train,y_test = train_test_split(X, y, test_size = 0.2, random_state = 2)\n",
        "from sklearn.neighbors import KNeighborsClassifier\n",
        "Knn = KNeighborsClassifier(n_neighbors=5, metric='euclidean')\n",
        "\n",
        "# Apply the knn object on the dataset(Training Phase)\n",
        "# Syntax: objectName.fit(Input, Output)\n",
        "Knn.fit(X_train, y_train)"
      ],
      "execution_count": null,
      "outputs": [
        {
          "output_type": "execute_result",
          "data": {
            "text/plain": [
              "KNeighborsClassifier(algorithm='auto', leaf_size=30, metric='euclidean',\n",
              "                     metric_params=None, n_jobs=None, n_neighbors=5, p=2,\n",
              "                     weights='uniform')"
            ]
          },
          "metadata": {
            "tags": []
          },
          "execution_count": 53
        }
      ]
    },
    {
      "cell_type": "code",
      "metadata": {
        "id": "PB0eMAs3WaaA",
        "colab_type": "code",
        "colab": {
          "base_uri": "https://localhost:8080/",
          "height": 221
        },
        "outputId": "1edef8e7-1801-499b-ceef-8d7bd7c41d6b"
      },
      "source": [
        "# Predictions on the data\n",
        "#predict function--> gives the predicted values\n",
        "# Syntax:objectname.predict(Input)\n",
        "y_train_pred = Knn.predict(X_train)\n",
        "y_train==y_train_pred"
      ],
      "execution_count": null,
      "outputs": [
        {
          "output_type": "execute_result",
          "data": {
            "text/plain": [
              "367    True\n",
              "125    True\n",
              "10     True\n",
              "193    True\n",
              "88     True\n",
              "       ... \n",
              "85     True\n",
              "23     True\n",
              "78     True\n",
              "16     True\n",
              "225    True\n",
              "Name: target, Length: 241, dtype: bool"
            ]
          },
          "metadata": {
            "tags": []
          },
          "execution_count": 54
        }
      ]
    },
    {
      "cell_type": "code",
      "metadata": {
        "id": "XgvTL66CD1Id",
        "colab_type": "code",
        "colab": {
          "base_uri": "https://localhost:8080/",
          "height": 282
        },
        "outputId": "b1964689-3b7e-4375-b918-ad3a6e406c5c"
      },
      "source": [
        "from sklearn.metrics import confusion_matrix, accuracy_score\n",
        "conf = confusion_matrix(y_train, y_train_pred)\n",
        "conf\n",
        "sns.heatmap(confusion_matrix(y_train, y_train_pred), annot=True, fmt='3.0f', annot_kws={'size':'10', \"ha\": 'right',\"va\": 'baseline'})"
      ],
      "execution_count": null,
      "outputs": [
        {
          "output_type": "execute_result",
          "data": {
            "text/plain": [
              "<matplotlib.axes._subplots.AxesSubplot at 0x7f2e204c7240>"
            ]
          },
          "metadata": {
            "tags": []
          },
          "execution_count": 55
        },
        {
          "output_type": "display_data",
          "data": {
            "image/png": "[encoded data removed]",
            "text/plain": [
              "<Figure size 432x288 with 2 Axes>"
            ]
          },
          "metadata": {
            "tags": [],
            "needs_background": "light"
          }
        }
      ]
    },
    {
      "cell_type": "code",
      "metadata": {
        "id": "VviQ_YjvWfQV",
        "colab_type": "code",
        "colab": {
          "base_uri": "https://localhost:8080/",
          "height": 170
        },
        "outputId": "c77d43cf-20e2-4216-a848-31a7a5951066"
      },
      "source": [
        "# Check the accuracy, classification report\n",
        "from sklearn.metrics import classification_report\n",
        "print(classification_report(y_train, y_train_pred))"
      ],
      "execution_count": null,
      "outputs": [
        {
          "output_type": "stream",
          "text": [
            "              precision    recall  f1-score   support\n",
            "\n",
            "           0       0.90      0.79      0.85       107\n",
            "           1       0.85      0.93      0.89       134\n",
            "\n",
            "    accuracy                           0.87       241\n",
            "   macro avg       0.88      0.86      0.87       241\n",
            "weighted avg       0.87      0.87      0.87       241\n",
            "\n"
          ],
          "name": "stdout"
        }
      ]
    },
    {
      "cell_type": "code",
      "metadata": {
        "id": "ZQkmjf8FD9wl",
        "colab_type": "code",
        "colab": {
          "base_uri": "https://localhost:8080/",
          "height": 34
        },
        "outputId": "fad70232-4fd8-4ffd-d2a8-e7f5e2e9b364"
      },
      "source": [
        "from sklearn.metrics import accuracy_score\n",
        "accuracy_score(y_train,y_train_pred)"
      ],
      "execution_count": null,
      "outputs": [
        {
          "output_type": "execute_result",
          "data": {
            "text/plain": [
              "0.8713692946058091"
            ]
          },
          "metadata": {
            "tags": []
          },
          "execution_count": 57
        }
      ]
    },
    {
      "cell_type": "markdown",
      "metadata": {
        "id": "nuIrY6PSEHYs",
        "colab_type": "text"
      },
      "source": [
        "# **Predicting on Test data**"
      ]
    },
    {
      "cell_type": "code",
      "metadata": {
        "id": "J_Wc9c5yXHL2",
        "colab_type": "code",
        "colab": {
          "base_uri": "https://localhost:8080/",
          "height": 221
        },
        "outputId": "9e9924d6-7b9d-4baf-dd5b-8b90cf1b229b"
      },
      "source": [
        "# Prediction on  training data\n",
        "y_test_pred = Knn.predict(X_test)\n",
        "y_test==y_test_pred"
      ],
      "execution_count": null,
      "outputs": [
        {
          "output_type": "execute_result",
          "data": {
            "text/plain": [
              "114    False\n",
              "719    False\n",
              "102     True\n",
              "32      True\n",
              "720    False\n",
              "       ...  \n",
              "233     True\n",
              "108    False\n",
              "210     True\n",
              "323     True\n",
              "105     True\n",
              "Name: target, Length: 61, dtype: bool"
            ]
          },
          "metadata": {
            "tags": []
          },
          "execution_count": 58
        }
      ]
    },
    {
      "cell_type": "code",
      "metadata": {
        "id": "oe9_Zm9hEvub",
        "colab_type": "code",
        "colab": {
          "base_uri": "https://localhost:8080/",
          "height": 282
        },
        "outputId": "cc83be9b-eab6-411b-ed50-04edf1e8e00d"
      },
      "source": [
        "from sklearn.metrics import confusion_matrix, accuracy_score\n",
        "conf = confusion_matrix(y_test, y_test_pred)\n",
        "conf\n",
        "sns.heatmap(confusion_matrix(y_test, y_test_pred), annot=True, fmt='3.0f', annot_kws={'size':'10', \"ha\": 'right',\"va\": 'baseline'})"
      ],
      "execution_count": null,
      "outputs": [
        {
          "output_type": "execute_result",
          "data": {
            "text/plain": [
              "<matplotlib.axes._subplots.AxesSubplot at 0x7f2e1ff9e470>"
            ]
          },
          "metadata": {
            "tags": []
          },
          "execution_count": 59
        },
        {
          "output_type": "display_data",
          "data": {
            "image/png": "[encoded data removed]",
            "text/plain": [
              "<Figure size 432x288 with 2 Axes>"
            ]
          },
          "metadata": {
            "tags": [],
            "needs_background": "light"
          }
        }
      ]
    },
    {
      "cell_type": "code",
      "metadata": {
        "id": "eRXND7fwnHiD",
        "colab_type": "code",
        "colab": {
          "base_uri": "https://localhost:8080/",
          "height": 34
        },
        "outputId": "b6824010-c64b-4083-fc1e-f1c79ccd67f5"
      },
      "source": [
        "from sklearn.metrics import accuracy_score\n",
        "accuracy_score(y_test,y_test_pred)"
      ],
      "execution_count": null,
      "outputs": [
        {
          "output_type": "execute_result",
          "data": {
            "text/plain": [
              "0.819672131147541"
            ]
          },
          "metadata": {
            "tags": []
          },
          "execution_count": 60
        }
      ]
    },
    {
      "cell_type": "code",
      "metadata": {
        "id": "c2FehtIEXefE",
        "colab_type": "code",
        "colab": {
          "base_uri": "https://localhost:8080/",
          "height": 170
        },
        "outputId": "2dac741a-cc98-48fd-e41e-c435b3a492ab"
      },
      "source": [
        "# Classification Report for Test Data\n",
        "print(classification_report(y_test, y_test_pred))"
      ],
      "execution_count": null,
      "outputs": [
        {
          "output_type": "stream",
          "text": [
            "              precision    recall  f1-score   support\n",
            "\n",
            "           0       0.88      0.74      0.81        31\n",
            "           1       0.77      0.90      0.83        30\n",
            "\n",
            "    accuracy                           0.82        61\n",
            "   macro avg       0.83      0.82      0.82        61\n",
            "weighted avg       0.83      0.82      0.82        61\n",
            "\n"
          ],
          "name": "stdout"
        }
      ]
    },
    {
      "cell_type": "markdown",
      "metadata": {
        "id": "oS9ohI5wwmlQ",
        "colab_type": "text"
      },
      "source": [
        "**Tuning the hyper-parameters**"
      ]
    },
    {
      "cell_type": "markdown",
      "metadata": {
        "id": "rvXK5Pfmw4HD",
        "colab_type": "text"
      },
      "source": [
        "Hyper-parameters are parameters that are not directly learnt within estimators. In scikit-learn they are passed as arguments to the constructor of the estimator classes. Typical examples include C, kernel and gamma for Support Vector Classifier, alpha for Lasso, etc."
      ]
    },
    {
      "cell_type": "markdown",
      "metadata": {
        "id": "r2jDnHJ1xMK1",
        "colab_type": "text"
      },
      "source": [
        "# **GridSearchCV**"
      ]
    },
    {
      "cell_type": "markdown",
      "metadata": {
        "id": "x6Jh5tF1xl85",
        "colab_type": "text"
      },
      "source": [
        " i have taken the information from https://scikit-learn.org/stable/modules/generated/sklearn.model_selection.GridSearchCV.html"
      ]
    },
    {
      "cell_type": "code",
      "metadata": {
        "id": "tqPvsWeleydj",
        "colab_type": "code",
        "colab": {}
      },
      "source": [
        "from sklearn import svm"
      ],
      "execution_count": null,
      "outputs": []
    },
    {
      "cell_type": "code",
      "metadata": {
        "id": "d-UatVUZeijt",
        "colab_type": "code",
        "colab": {
          "base_uri": "https://localhost:8080/",
          "height": 646
        },
        "outputId": "94f5fcb7-c225-417c-98b9-320f21f7ba53"
      },
      "source": [
        "from sklearn.model_selection import GridSearchCV\n",
        "clf = GridSearchCV(svm.SVC(gamma='auto'), {\n",
        "    'C': [1,10,20],\n",
        "    'kernel': ['rbf','linear']\n",
        "}, cv=5, return_train_score=False)\n",
        "clf.fit(X,y)\n",
        "clf.cv_results_"
      ],
      "execution_count": null,
      "outputs": [
        {
          "output_type": "execute_result",
          "data": {
            "text/plain": [
              "{'mean_fit_time': array([0.0048748 , 0.00399556, 0.00459709, 0.0110939 , 0.00493021,\n",
              "        0.01998153]),\n",
              " 'mean_score_time': array([0.00137696, 0.00111527, 0.00131392, 0.00140357, 0.00141926,\n",
              "        0.00138893]),\n",
              " 'mean_test_score': array([0.83453552, 0.82786885, 0.79142077, 0.83120219, 0.78486339,\n",
              "        0.83120219]),\n",
              " 'param_C': masked_array(data=[1, 1, 10, 10, 20, 20],\n",
              "              mask=[False, False, False, False, False, False],\n",
              "        fill_value='?',\n",
              "             dtype=object),\n",
              " 'param_kernel': masked_array(data=['rbf', 'linear', 'rbf', 'linear', 'rbf', 'linear'],\n",
              "              mask=[False, False, False, False, False, False],\n",
              "        fill_value='?',\n",
              "             dtype=object),\n",
              " 'params': [{'C': 1, 'kernel': 'rbf'},\n",
              "  {'C': 1, 'kernel': 'linear'},\n",
              "  {'C': 10, 'kernel': 'rbf'},\n",
              "  {'C': 10, 'kernel': 'linear'},\n",
              "  {'C': 20, 'kernel': 'rbf'},\n",
              "  {'C': 20, 'kernel': 'linear'}],\n",
              " 'rank_test_score': array([1, 4, 5, 2, 6, 2], dtype=int32),\n",
              " 'split0_test_score': array([0.81967213, 0.85245902, 0.78688525, 0.85245902, 0.73770492,\n",
              "        0.85245902]),\n",
              " 'split1_test_score': array([0.81967213, 0.78688525, 0.78688525, 0.78688525, 0.80327869,\n",
              "        0.78688525]),\n",
              " 'split2_test_score': array([0.93333333, 0.93333333, 0.85      , 0.93333333, 0.86666667,\n",
              "        0.93333333]),\n",
              " 'split3_test_score': array([0.83333333, 0.78333333, 0.75      , 0.8       , 0.75      ,\n",
              "        0.8       ]),\n",
              " 'split4_test_score': array([0.76666667, 0.78333333, 0.78333333, 0.78333333, 0.76666667,\n",
              "        0.78333333]),\n",
              " 'std_fit_time': array([0.00168328, 0.00048827, 0.00018788, 0.00283976, 0.00027046,\n",
              "        0.00620262]),\n",
              " 'std_score_time': array([8.10102127e-05, 2.54134075e-05, 5.18241050e-05, 1.34734893e-04,\n",
              "        1.20074508e-04, 5.61836000e-05]),\n",
              " 'std_test_score': array([0.05442513, 0.05894729, 0.03241529, 0.05676552, 0.04647881,\n",
              "        0.05676552])}"
            ]
          },
          "metadata": {
            "tags": []
          },
          "execution_count": 63
        }
      ]
    },
    {
      "cell_type": "code",
      "metadata": {
        "id": "84uwU19de9Q6",
        "colab_type": "code",
        "colab": {
          "base_uri": "https://localhost:8080/",
          "height": 459
        },
        "outputId": "48799a4c-bbfd-4df0-a510-ba3cdf54173a"
      },
      "source": [
        "heart = pd.DataFrame(clf.cv_results_)\n",
        "heart"
      ],
      "execution_count": null,
      "outputs": [
        {
          "output_type": "execute_result",
          "data": {
            "text/html": [
              "<div>\n",
              "<style scoped>\n",
              "    .dataframe tbody tr th:only-of-type {\n",
              "        vertical-align: middle;\n",
              "    }\n",
              "\n",
              "    .dataframe tbody tr th {\n",
              "        vertical-align: top;\n",
              "    }\n",
              "\n",
              "    .dataframe thead th {\n",
              "        text-align: right;\n",
              "    }\n",
              "</style>\n",
              "<table border=\"1\" class=\"dataframe\">\n",
              "  <thead>\n",
              "    <tr style=\"text-align: right;\">\n",
              "      <th></th>\n",
              "      <th>mean_fit_time</th>\n",
              "      <th>std_fit_time</th>\n",
              "      <th>mean_score_time</th>\n",
              "      <th>std_score_time</th>\n",
              "      <th>param_C</th>\n",
              "      <th>param_kernel</th>\n",
              "      <th>params</th>\n",
              "      <th>split0_test_score</th>\n",
              "      <th>split1_test_score</th>\n",
              "      <th>split2_test_score</th>\n",
              "      <th>split3_test_score</th>\n",
              "      <th>split4_test_score</th>\n",
              "      <th>mean_test_score</th>\n",
              "      <th>std_test_score</th>\n",
              "      <th>rank_test_score</th>\n",
              "    </tr>\n",
              "  </thead>\n",
              "  <tbody>\n",
              "    <tr>\n",
              "      <th>0</th>\n",
              "      <td>0.004875</td>\n",
              "      <td>0.001683</td>\n",
              "      <td>0.001377</td>\n",
              "      <td>0.000081</td>\n",
              "      <td>1</td>\n",
              "      <td>rbf</td>\n",
              "      <td>{'C': 1, 'kernel': 'rbf'}</td>\n",
              "      <td>0.819672</td>\n",
              "      <td>0.819672</td>\n",
              "      <td>0.933333</td>\n",
              "      <td>0.833333</td>\n",
              "      <td>0.766667</td>\n",
              "      <td>0.834536</td>\n",
              "      <td>0.054425</td>\n",
              "      <td>1</td>\n",
              "    </tr>\n",
              "    <tr>\n",
              "      <th>1</th>\n",
              "      <td>0.003996</td>\n",
              "      <td>0.000488</td>\n",
              "      <td>0.001115</td>\n",
              "      <td>0.000025</td>\n",
              "      <td>1</td>\n",
              "      <td>linear</td>\n",
              "      <td>{'C': 1, 'kernel': 'linear'}</td>\n",
              "      <td>0.852459</td>\n",
              "      <td>0.786885</td>\n",
              "      <td>0.933333</td>\n",
              "      <td>0.783333</td>\n",
              "      <td>0.783333</td>\n",
              "      <td>0.827869</td>\n",
              "      <td>0.058947</td>\n",
              "      <td>4</td>\n",
              "    </tr>\n",
              "    <tr>\n",
              "      <th>2</th>\n",
              "      <td>0.004597</td>\n",
              "      <td>0.000188</td>\n",
              "      <td>0.001314</td>\n",
              "      <td>0.000052</td>\n",
              "      <td>10</td>\n",
              "      <td>rbf</td>\n",
              "      <td>{'C': 10, 'kernel': 'rbf'}</td>\n",
              "      <td>0.786885</td>\n",
              "      <td>0.786885</td>\n",
              "      <td>0.850000</td>\n",
              "      <td>0.750000</td>\n",
              "      <td>0.783333</td>\n",
              "      <td>0.791421</td>\n",
              "      <td>0.032415</td>\n",
              "      <td>5</td>\n",
              "    </tr>\n",
              "    <tr>\n",
              "      <th>3</th>\n",
              "      <td>0.011094</td>\n",
              "      <td>0.002840</td>\n",
              "      <td>0.001404</td>\n",
              "      <td>0.000135</td>\n",
              "      <td>10</td>\n",
              "      <td>linear</td>\n",
              "      <td>{'C': 10, 'kernel': 'linear'}</td>\n",
              "      <td>0.852459</td>\n",
              "      <td>0.786885</td>\n",
              "      <td>0.933333</td>\n",
              "      <td>0.800000</td>\n",
              "      <td>0.783333</td>\n",
              "      <td>0.831202</td>\n",
              "      <td>0.056766</td>\n",
              "      <td>2</td>\n",
              "    </tr>\n",
              "    <tr>\n",
              "      <th>4</th>\n",
              "      <td>0.004930</td>\n",
              "      <td>0.000270</td>\n",
              "      <td>0.001419</td>\n",
              "      <td>0.000120</td>\n",
              "      <td>20</td>\n",
              "      <td>rbf</td>\n",
              "      <td>{'C': 20, 'kernel': 'rbf'}</td>\n",
              "      <td>0.737705</td>\n",
              "      <td>0.803279</td>\n",
              "      <td>0.866667</td>\n",
              "      <td>0.750000</td>\n",
              "      <td>0.766667</td>\n",
              "      <td>0.784863</td>\n",
              "      <td>0.046479</td>\n",
              "      <td>6</td>\n",
              "    </tr>\n",
              "    <tr>\n",
              "      <th>5</th>\n",
              "      <td>0.019982</td>\n",
              "      <td>0.006203</td>\n",
              "      <td>0.001389</td>\n",
              "      <td>0.000056</td>\n",
              "      <td>20</td>\n",
              "      <td>linear</td>\n",
              "      <td>{'C': 20, 'kernel': 'linear'}</td>\n",
              "      <td>0.852459</td>\n",
              "      <td>0.786885</td>\n",
              "      <td>0.933333</td>\n",
              "      <td>0.800000</td>\n",
              "      <td>0.783333</td>\n",
              "      <td>0.831202</td>\n",
              "      <td>0.056766</td>\n",
              "      <td>2</td>\n",
              "    </tr>\n",
              "  </tbody>\n",
              "</table>\n",
              "</div>"
            ],
            "text/plain": [
              "   mean_fit_time  std_fit_time  ...  std_test_score  rank_test_score\n",
              "0       0.004875      0.001683  ...        0.054425                1\n",
              "1       0.003996      0.000488  ...        0.058947                4\n",
              "2       0.004597      0.000188  ...        0.032415                5\n",
              "3       0.011094      0.002840  ...        0.056766                2\n",
              "4       0.004930      0.000270  ...        0.046479                6\n",
              "5       0.019982      0.006203  ...        0.056766                2\n",
              "\n",
              "[6 rows x 15 columns]"
            ]
          },
          "metadata": {
            "tags": []
          },
          "execution_count": 64
        }
      ]
    },
    {
      "cell_type": "code",
      "metadata": {
        "id": "gFUcVamSfJtW",
        "colab_type": "code",
        "colab": {
          "base_uri": "https://localhost:8080/",
          "height": 235
        },
        "outputId": "e08bfd25-7683-4cf2-ec88-4fd44dd474b9"
      },
      "source": [
        "heart[['param_C','param_kernel','mean_test_score']]"
      ],
      "execution_count": null,
      "outputs": [
        {
          "output_type": "execute_result",
          "data": {
            "text/html": [
              "<div>\n",
              "<style scoped>\n",
              "    .dataframe tbody tr th:only-of-type {\n",
              "        vertical-align: middle;\n",
              "    }\n",
              "\n",
              "    .dataframe tbody tr th {\n",
              "        vertical-align: top;\n",
              "    }\n",
              "\n",
              "    .dataframe thead th {\n",
              "        text-align: right;\n",
              "    }\n",
              "</style>\n",
              "<table border=\"1\" class=\"dataframe\">\n",
              "  <thead>\n",
              "    <tr style=\"text-align: right;\">\n",
              "      <th></th>\n",
              "      <th>param_C</th>\n",
              "      <th>param_kernel</th>\n",
              "      <th>mean_test_score</th>\n",
              "    </tr>\n",
              "  </thead>\n",
              "  <tbody>\n",
              "    <tr>\n",
              "      <th>0</th>\n",
              "      <td>1</td>\n",
              "      <td>rbf</td>\n",
              "      <td>0.834536</td>\n",
              "    </tr>\n",
              "    <tr>\n",
              "      <th>1</th>\n",
              "      <td>1</td>\n",
              "      <td>linear</td>\n",
              "      <td>0.827869</td>\n",
              "    </tr>\n",
              "    <tr>\n",
              "      <th>2</th>\n",
              "      <td>10</td>\n",
              "      <td>rbf</td>\n",
              "      <td>0.791421</td>\n",
              "    </tr>\n",
              "    <tr>\n",
              "      <th>3</th>\n",
              "      <td>10</td>\n",
              "      <td>linear</td>\n",
              "      <td>0.831202</td>\n",
              "    </tr>\n",
              "    <tr>\n",
              "      <th>4</th>\n",
              "      <td>20</td>\n",
              "      <td>rbf</td>\n",
              "      <td>0.784863</td>\n",
              "    </tr>\n",
              "    <tr>\n",
              "      <th>5</th>\n",
              "      <td>20</td>\n",
              "      <td>linear</td>\n",
              "      <td>0.831202</td>\n",
              "    </tr>\n",
              "  </tbody>\n",
              "</table>\n",
              "</div>"
            ],
            "text/plain": [
              "  param_C param_kernel  mean_test_score\n",
              "0       1          rbf         0.834536\n",
              "1       1       linear         0.827869\n",
              "2      10          rbf         0.791421\n",
              "3      10       linear         0.831202\n",
              "4      20          rbf         0.784863\n",
              "5      20       linear         0.831202"
            ]
          },
          "metadata": {
            "tags": []
          },
          "execution_count": 65
        }
      ]
    },
    {
      "cell_type": "code",
      "metadata": {
        "id": "or9LWUSFfRD_",
        "colab_type": "code",
        "colab": {
          "base_uri": "https://localhost:8080/",
          "height": 34
        },
        "outputId": "ff12c727-f38d-4646-fc2a-7c789d94da46"
      },
      "source": [
        "clf.best_params_"
      ],
      "execution_count": null,
      "outputs": [
        {
          "output_type": "execute_result",
          "data": {
            "text/plain": [
              "{'C': 1, 'kernel': 'rbf'}"
            ]
          },
          "metadata": {
            "tags": []
          },
          "execution_count": 66
        }
      ]
    },
    {
      "cell_type": "code",
      "metadata": {
        "id": "B8rNq-RTfUiI",
        "colab_type": "code",
        "colab": {
          "base_uri": "https://localhost:8080/",
          "height": 34
        },
        "outputId": "0a29d8e9-b642-4f65-c4ac-09c08c930ade"
      },
      "source": [
        "clf.best_score_"
      ],
      "execution_count": null,
      "outputs": [
        {
          "output_type": "execute_result",
          "data": {
            "text/plain": [
              "0.8345355191256832"
            ]
          },
          "metadata": {
            "tags": []
          },
          "execution_count": 67
        }
      ]
    },
    {
      "cell_type": "code",
      "metadata": {
        "id": "gs91IRbQfpMp",
        "colab_type": "code",
        "colab": {
          "base_uri": "https://localhost:8080/",
          "height": 1000
        },
        "outputId": "d8daee4a-d40b-476e-9074-f958fe23b75a"
      },
      "source": [
        "dir(clf)"
      ],
      "execution_count": null,
      "outputs": [
        {
          "output_type": "execute_result",
          "data": {
            "text/plain": [
              "['__abstractmethods__',\n",
              " '__class__',\n",
              " '__delattr__',\n",
              " '__dict__',\n",
              " '__dir__',\n",
              " '__doc__',\n",
              " '__eq__',\n",
              " '__format__',\n",
              " '__ge__',\n",
              " '__getattribute__',\n",
              " '__getstate__',\n",
              " '__gt__',\n",
              " '__hash__',\n",
              " '__init__',\n",
              " '__init_subclass__',\n",
              " '__le__',\n",
              " '__lt__',\n",
              " '__module__',\n",
              " '__ne__',\n",
              " '__new__',\n",
              " '__reduce__',\n",
              " '__reduce_ex__',\n",
              " '__repr__',\n",
              " '__setattr__',\n",
              " '__setstate__',\n",
              " '__sizeof__',\n",
              " '__str__',\n",
              " '__subclasshook__',\n",
              " '__weakref__',\n",
              " '_abc_cache',\n",
              " '_abc_negative_cache',\n",
              " '_abc_negative_cache_version',\n",
              " '_abc_registry',\n",
              " '_check_is_fitted',\n",
              " '_estimator_type',\n",
              " '_format_results',\n",
              " '_get_param_names',\n",
              " '_get_tags',\n",
              " '_more_tags',\n",
              " '_pairwise',\n",
              " '_required_parameters',\n",
              " '_run_search',\n",
              " 'best_estimator_',\n",
              " 'best_index_',\n",
              " 'best_params_',\n",
              " 'best_score_',\n",
              " 'classes_',\n",
              " 'cv',\n",
              " 'cv_results_',\n",
              " 'decision_function',\n",
              " 'error_score',\n",
              " 'estimator',\n",
              " 'fit',\n",
              " 'get_params',\n",
              " 'iid',\n",
              " 'inverse_transform',\n",
              " 'multimetric_',\n",
              " 'n_jobs',\n",
              " 'n_splits_',\n",
              " 'param_grid',\n",
              " 'pre_dispatch',\n",
              " 'predict',\n",
              " 'predict_log_proba',\n",
              " 'predict_proba',\n",
              " 'refit',\n",
              " 'refit_time_',\n",
              " 'return_train_score',\n",
              " 'score',\n",
              " 'scorer_',\n",
              " 'scoring',\n",
              " 'set_params',\n",
              " 'transform',\n",
              " 'verbose']"
            ]
          },
          "metadata": {
            "tags": []
          },
          "execution_count": 68
        }
      ]
    },
    {
      "cell_type": "code",
      "metadata": {
        "id": "sdYorg4dfr0H",
        "colab_type": "code",
        "colab": {}
      },
      "source": [
        "from sklearn import svm\n",
        "from sklearn.naive_bayes import GaussianNB\n",
        "from sklearn.linear_model import LogisticRegression\n",
        "from sklearn.neighbors import KNeighborsClassifier\n",
        "\n",
        "model_params = {\n",
        "    'svm': {\n",
        "        'model': svm.SVC(gamma='auto'),\n",
        "        'params' : {\n",
        "            'C': [1,10,20],\n",
        "            'kernel': ['rbf','linear']\n",
        "        }  \n",
        "    },\n",
        "    'knn': {\n",
        "        'model': KNeighborsClassifier(),\n",
        "        'params' : {}\n",
        "            \n",
        "    },\n",
        "    'naive_bayes_gaussian': {\n",
        "        'model': GaussianNB(),\n",
        "        'params': {}\n",
        "    },\n",
        "    'logistic_regression' : {\n",
        "        'model': LogisticRegression(solver='liblinear',multi_class='auto'),\n",
        "        'params': {\n",
        "            'C': [1,5,10]\n",
        "            \n",
        "        }\n",
        "    }\n",
        "}"
      ],
      "execution_count": null,
      "outputs": []
    },
    {
      "cell_type": "code",
      "metadata": {
        "id": "AMlwRSaltaeE",
        "colab_type": "code",
        "colab": {}
      },
      "source": [
        "scores = []\n",
        "\n",
        "for model_name, mp in model_params.items():\n",
        "    clf =  GridSearchCV(mp['model'], mp['params'], cv=5, return_train_score=False)\n",
        "    clf.fit(X,y)\n",
        "    scores.append({\n",
        "        'model': model_name,\n",
        "        'best_score': clf.best_score_,\n",
        "        'best_params': clf.best_params_\n",
        "    })\n",
        "    "
      ],
      "execution_count": null,
      "outputs": []
    },
    {
      "cell_type": "code",
      "metadata": {
        "id": "76S574xGi_oI",
        "colab_type": "code",
        "colab": {
          "base_uri": "https://localhost:8080/",
          "height": 173
        },
        "outputId": "3ce36e3f-2e4e-4a61-b5e2-5dff1e7979ff"
      },
      "source": [
        "heart = pd.DataFrame(scores,columns=['model','best_score','best_params'])\n",
        "heart"
      ],
      "execution_count": null,
      "outputs": [
        {
          "output_type": "execute_result",
          "data": {
            "text/html": [
              "<div>\n",
              "<style scoped>\n",
              "    .dataframe tbody tr th:only-of-type {\n",
              "        vertical-align: middle;\n",
              "    }\n",
              "\n",
              "    .dataframe tbody tr th {\n",
              "        vertical-align: top;\n",
              "    }\n",
              "\n",
              "    .dataframe thead th {\n",
              "        text-align: right;\n",
              "    }\n",
              "</style>\n",
              "<table border=\"1\" class=\"dataframe\">\n",
              "  <thead>\n",
              "    <tr style=\"text-align: right;\">\n",
              "      <th></th>\n",
              "      <th>model</th>\n",
              "      <th>best_score</th>\n",
              "      <th>best_params</th>\n",
              "    </tr>\n",
              "  </thead>\n",
              "  <tbody>\n",
              "    <tr>\n",
              "      <th>0</th>\n",
              "      <td>svm</td>\n",
              "      <td>0.834536</td>\n",
              "      <td>{'C': 1, 'kernel': 'rbf'}</td>\n",
              "    </tr>\n",
              "    <tr>\n",
              "      <th>1</th>\n",
              "      <td>knn</td>\n",
              "      <td>0.804645</td>\n",
              "      <td>{}</td>\n",
              "    </tr>\n",
              "    <tr>\n",
              "      <th>2</th>\n",
              "      <td>naive_bayes_gaussian</td>\n",
              "      <td>0.807760</td>\n",
              "      <td>{}</td>\n",
              "    </tr>\n",
              "    <tr>\n",
              "      <th>3</th>\n",
              "      <td>logistic_regression</td>\n",
              "      <td>0.841038</td>\n",
              "      <td>{'C': 1}</td>\n",
              "    </tr>\n",
              "  </tbody>\n",
              "</table>\n",
              "</div>"
            ],
            "text/plain": [
              "                  model  best_score                best_params\n",
              "0                   svm    0.834536  {'C': 1, 'kernel': 'rbf'}\n",
              "1                   knn    0.804645                         {}\n",
              "2  naive_bayes_gaussian    0.807760                         {}\n",
              "3   logistic_regression    0.841038                   {'C': 1}"
            ]
          },
          "metadata": {
            "tags": []
          },
          "execution_count": 71
        }
      ]
    },
    {
      "cell_type": "markdown",
      "metadata": {
        "id": "xkjt_jni1ZP4",
        "colab_type": "text"
      },
      "source": [
        "**the accuracy for the test set achieved by logistic regression is: 0.85**\n",
        "\n",
        "**the accuracy for the test set achieved by naive bayes:0.80** \n",
        "\n",
        "**the accuracy for the test set achieved byknn is:0.80**\n",
        "\n",
        "**the accuracy for the test set achieved by svm is:0.83**"
      ]
    },
    {
      "cell_type": "markdown",
      "metadata": {
        "id": "8QwuR7i2x-gZ",
        "colab_type": "text"
      },
      "source": [
        "# **conclusion**"
      ]
    },
    {
      "cell_type": "code",
      "metadata": {
        "id": "EW2D8eHrjiPa",
        "colab_type": "code",
        "colab": {
          "base_uri": "https://localhost:8080/",
          "height": 281
        },
        "outputId": "2cc3821c-7f85-4bee-e4d3-d646e54fb363"
      },
      "source": [
        "models=['Logistic Regression','NaiveBayes','kNeighboursClassifier','svm']\n",
        "accuracy_scores=[0.85,0.80,0.80,0.83]\n",
        "plt.bar(models,accuracy_scores,color=['orange','grey','pink','black'])\n",
        "plt.ylabel(\"accuracy scores\")\n",
        "plt.title(\"which model has high accuracy\")\n",
        "plt.show()"
      ],
      "execution_count": null,
      "outputs": [
        {
          "output_type": "display_data",
          "data": {
            "image/png": "[encoded data removed]",
            "text/plain": [
              "<Figure size 432x288 with 1 Axes>"
            ]
          },
          "metadata": {
            "tags": [],
            "needs_background": "light"
          }
        }
      ]
    },
    {
      "cell_type": "markdown",
      "metadata": {
        "id": "qiDkBhj22iCt",
        "colab_type": "text"
      },
      "source": [
        "-> In this project, I used Machine Learning to predict whether a person is suffering from a heart disease. After importing the data, I analysed it using plots.  I then applied 4 Machine Learning algorithms, K Neighbors Classifier, logistic regression ,naive bayes classifier,svm. I varied parameters across each model to improve their scores. In the end,  Logistic Regression achieved the highest score of accuracy 85% as compared to other algorithms"
      ]
    }
  ]
}